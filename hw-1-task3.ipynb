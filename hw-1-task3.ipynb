{
 "cells": [
  {
   "cell_type": "markdown",
   "metadata": {},
   "source": [
    "## Задание 3. \n",
    "### Разработать приложение для определения знака зодиака по дате рождения.\n",
    "\n",
    "Пример:\n",
    "\n",
    ">Введите месяц: `март`\n",
    "\n",
    ">Введите число: `6`\n",
    "\n",
    "**Вывод:**\n",
    "_Рыбы_"
   ]
  },
  {
   "cell_type": "code",
   "execution_count": 1,
   "metadata": {},
   "outputs": [],
   "source": [
    "# Импортируем библиотеку для работы с датой и временем\n",
    "import datetime"
   ]
  },
  {
   "cell_type": "code",
   "execution_count": 2,
   "metadata": {},
   "outputs": [
    {
     "name": "stdout",
     "output_type": "stream",
     "text": [
      "Введите число своего рождения: 22\n"
     ]
    }
   ],
   "source": [
    "# Получаем день рождения\n",
    "birth_date = int(input('Введите число своего рождения: '))"
   ]
  },
  {
   "cell_type": "code",
   "execution_count": 3,
   "metadata": {},
   "outputs": [
    {
     "name": "stdout",
     "output_type": "stream",
     "text": [
      "Введите месяц своего рождения: 07\n"
     ]
    }
   ],
   "source": [
    "# Получаем месяц рождения\n",
    "birth_mounth = int(input('Введите месяц своего рождения: '))"
   ]
  },
  {
   "cell_type": "code",
   "execution_count": 4,
   "metadata": {},
   "outputs": [],
   "source": [
    "# Так как год не важен и для удобства работы мы создаем объект ДАТА с нужным нам параметрами\n",
    "date = datetime.date(2000, birth_mounth, birth_date)"
   ]
  },
  {
   "cell_type": "code",
   "execution_count": 5,
   "metadata": {},
   "outputs": [
    {
     "name": "stdout",
     "output_type": "stream",
     "text": [
      "Рак\n"
     ]
    }
   ],
   "source": [
    "# Большой блок условий для определения знака зодиака\n",
    "if date >= datetime.date(2000,3,21) and date <= datetime.date(2000,4,20):\n",
    "    print('Овен')\n",
    "elif date >= datetime.date(2000,4,21) and date <= datetime.date(2000,5,20):\n",
    "    print('Телец')\n",
    "elif date >= datetime.date(2000,5,21) and date <= datetime.date(2000,6,21):\n",
    "    print('Близнецы')\n",
    "elif date >= datetime.date(2000,6,22) and date <= datetime.date(2000,7,22):\n",
    "    print('Рак')\n",
    "elif date >= datetime.date(2000,7,23) and date <= datetime.date(2000,8,23):\n",
    "    print('Лев')\n",
    "elif date >= datetime.date(2000,8,24) and date <= datetime.date(2000,9,23):\n",
    "    print('Дева')\n",
    "elif date >= datetime.date(2000,9,24) and date <= datetime.date(2000,10,23):\n",
    "    print('Весы')\n",
    "elif date >= datetime.date(2000,10,24) and date <= datetime.date(2000,11,22):\n",
    "    print('Скорпион')\n",
    "elif date >= datetime.date(2000,11,23) and date <= datetime.date(2000,12,21):\n",
    "    print('Стрелец')\n",
    "elif date >= datetime.date(2000,12,22) and date <= datetime.date(2001,1,20):\n",
    "    print('Козерог')\n",
    "elif date >= datetime.date(2001,1,21) and date <= datetime.date(2001,2,20):\n",
    "    print('Водолей')\n",
    "elif date >= datetime.date(2001,2,21) and date <= datetime.date(2001,2,20):\n",
    "    print('Рыбы')\n",
    "else:\n",
    "    print('Какая-то ошибка в вычислениях :)')"
   ]
  }
 ],
 "metadata": {
  "kernelspec": {
   "display_name": "Python 3",
   "language": "python",
   "name": "python3"
  },
  "language_info": {
   "codemirror_mode": {
    "name": "ipython",
    "version": 3
   },
   "file_extension": ".py",
   "mimetype": "text/x-python",
   "name": "python",
   "nbconvert_exporter": "python",
   "pygments_lexer": "ipython3",
   "version": "3.7.3"
  }
 },
 "nbformat": 4,
 "nbformat_minor": 2
}
