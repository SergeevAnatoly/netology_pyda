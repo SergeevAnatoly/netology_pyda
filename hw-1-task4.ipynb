{
 "cells": [
  {
   "cell_type": "code",
   "execution_count": 65,
   "metadata": {},
   "outputs": [],
   "source": [
    "# Количество месяцев\n",
    "month_count = 12\n"
   ]
  },
  {
   "cell_type": "code",
   "execution_count": 66,
   "metadata": {},
   "outputs": [
    {
     "name": "stdout",
     "output_type": "stream",
     "text": [
      "Введите заработанную плату в месяц: 100000\n"
     ]
    }
   ],
   "source": [
    "# Получаем зарплату\n",
    "zp = float(input('Введите заработанную плату в месяц: '))"
   ]
  },
  {
   "cell_type": "code",
   "execution_count": 67,
   "metadata": {},
   "outputs": [
    {
     "name": "stdout",
     "output_type": "stream",
     "text": [
      "Введите сколько процентов уходит на ипотеку: 30\n"
     ]
    }
   ],
   "source": [
    "# Получаем сколько % уходит на ипотеку\n",
    "mortgage_percent = float(input('Введите сколько процентов уходит на ипотеку: ')) / 100 "
   ]
  },
  {
   "cell_type": "code",
   "execution_count": 68,
   "metadata": {},
   "outputs": [
    {
     "name": "stdout",
     "output_type": "stream",
     "text": [
      "Введите сколько процентов уходит на жизнь: 50\n"
     ]
    }
   ],
   "source": [
    "# Получаем сколько % уходит на жизнь\n",
    "life_percent = float(input('Введите сколько процентов уходит на жизнь: ')) / 100"
   ]
  },
  {
   "cell_type": "code",
   "execution_count": 69,
   "metadata": {},
   "outputs": [
    {
     "name": "stdout",
     "output_type": "stream",
     "text": [
      "Введите количество премий за год: 2\n"
     ]
    }
   ],
   "source": [
    "# Получаем количество бонусов в году\n",
    "year_bonus_count = int(input('Введите количество премий за год: '))"
   ]
  },
  {
   "cell_type": "code",
   "execution_count": 70,
   "metadata": {},
   "outputs": [
    {
     "name": "stdout",
     "output_type": "stream",
     "text": [
      "100000.0\n"
     ]
    }
   ],
   "source": [
    "# Получаем размер премии, которая уходит в накопления (пенсию)\n",
    "bonus_value = (zp / 2) * year_bonus_count\n",
    "print(bonus_value)"
   ]
  },
  {
   "cell_type": "code",
   "execution_count": 71,
   "metadata": {},
   "outputs": [
    {
     "name": "stdout",
     "output_type": "stream",
     "text": [
      "30000.0\n"
     ]
    }
   ],
   "source": [
    "# Считаем сумму расходов на ипотеку в год\n",
    "mortage = zp * mortgage_percent\n",
    "print(mortage)"
   ]
  },
  {
   "cell_type": "code",
   "execution_count": 72,
   "metadata": {},
   "outputs": [
    {
     "name": "stdout",
     "output_type": "stream",
     "text": [
      "50000.0\n"
     ]
    }
   ],
   "source": [
    "# Считаем сумму расходов на жизнь в год\n",
    "life = zp * life_percent\n",
    "print(life)"
   ]
  },
  {
   "cell_type": "code",
   "execution_count": 73,
   "metadata": {},
   "outputs": [
    {
     "name": "stdout",
     "output_type": "stream",
     "text": [
      "340000.0\n"
     ]
    }
   ],
   "source": [
    "# Считаем сумму расходов на пенсию в год\n",
    "pension = (((zp - mortage - life)) * month_count) + bonus_value\n",
    "print(pension)"
   ]
  },
  {
   "cell_type": "code",
   "execution_count": 74,
   "metadata": {},
   "outputs": [
    {
     "name": "stdout",
     "output_type": "stream",
     "text": [
      "На ипотеку потрачено: 360000.0 рублей\n",
      "Было накоплено: 340000.0 рублей\n"
     ]
    }
   ],
   "source": [
    "print(f'На ипотеку потрачено: {mortage * month_count} рублей')\n",
    "print(f'Было накоплено: {pension} рублей')"
   ]
  }
 ],
 "metadata": {
  "kernelspec": {
   "display_name": "Python 3",
   "language": "python",
   "name": "python3"
  },
  "language_info": {
   "codemirror_mode": {
    "name": "ipython",
    "version": 3
   },
   "file_extension": ".py",
   "mimetype": "text/x-python",
   "name": "python",
   "nbconvert_exporter": "python",
   "pygments_lexer": "ipython3",
   "version": "3.7.3"
  }
 },
 "nbformat": 4,
 "nbformat_minor": 2
}
