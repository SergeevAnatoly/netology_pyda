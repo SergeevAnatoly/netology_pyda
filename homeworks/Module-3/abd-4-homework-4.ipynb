{
 "cells": [
  {
   "cell_type": "code",
   "execution_count": 1,
   "metadata": {},
   "outputs": [],
   "source": [
    "import pymongo as mng\n",
    "from pymongo import MongoClient\n",
    "import pprint"
   ]
  },
  {
   "cell_type": "markdown",
   "metadata": {},
   "source": [
    "### Вместо Предисловия :)\n",
    "Для удобства работы развернул mongoDB на локальном компьютере.\n",
    "Создал `DB=products` и `collection=products`.\n",
    "\n",
    "И добавил информацию о 4 товарах."
   ]
  },
  {
   "cell_type": "code",
   "execution_count": 2,
   "metadata": {},
   "outputs": [],
   "source": [
    "myclient = mng.MongoClient(\"mongodb://localhost:27017/\")\n",
    "mydb = myclient[\"products\"]\n",
    "mycol = mydb[\"products\"]"
   ]
  },
  {
   "cell_type": "code",
   "execution_count": 3,
   "metadata": {},
   "outputs": [],
   "source": [
    "myquery = { \"product_category_name\": { \"$gt\": \"\" }}\n",
    "myquery = {}\n"
   ]
  },
  {
   "cell_type": "code",
   "execution_count": 4,
   "metadata": {},
   "outputs": [],
   "source": [
    "mydoc = mycol.find(myquery)"
   ]
  },
  {
   "cell_type": "code",
   "execution_count": 5,
   "metadata": {},
   "outputs": [
    {
     "name": "stdout",
     "output_type": "stream",
     "text": [
      "{'_id': ObjectId('5dd1c3ebf5c2b82ff82c2669'),\n",
      " 'product_category_name': 'Бритвы',\n",
      " 'product_name': 'Бритва Braun XXL',\n",
      " 'product_price': Decimal128('1000.10'),\n",
      " 'product_unit_available': 100}\n",
      "{'_id': ObjectId('5dd1c520a368412ff812a8f2'),\n",
      " 'product_category_name': 'Бритвы',\n",
      " 'product_name': 'Бритва Gilette Mini',\n",
      " 'product_price': Decimal128('525.15'),\n",
      " 'product_unit_available': 10}\n",
      "{'_id': ObjectId('5dd1c555a368412ff812a8f3'),\n",
      " 'product_category_name': 'Батарейки ААА',\n",
      " 'product_name': 'Батарейки Ikea AAA 16 шт.',\n",
      " 'product_price': Decimal128('325.99'),\n",
      " 'product_unit_available': 11}\n",
      "{'_id': ObjectId('5dd1c574a368412ff812a8f4'),\n",
      " 'product_category_name': 'Батарейки ААА',\n",
      " 'product_name': 'Батарейки PKCell AAA 32 шт.',\n",
      " 'product_price': Decimal128('3699'),\n",
      " 'product_unit_available': 588}\n"
     ]
    }
   ],
   "source": [
    "for x in mydoc:\n",
    "    pprint.pprint(x)"
   ]
  },
  {
   "cell_type": "markdown",
   "metadata": {},
   "source": [
    "#### Считаем остаточную стоимость товаров"
   ]
  },
  {
   "cell_type": "code",
   "execution_count": 6,
   "metadata": {
    "scrolled": true
   },
   "outputs": [
    {
     "name": "stdout",
     "output_type": "stream",
     "text": [
      "Остаточная стоимость товаров в каждой категории:\n",
      "[{'_id': 'Бритвы', 'avaiable_in_stock': Decimal128('105261.50')},\n",
      " {'_id': 'Батарейки ААА', 'avaiable_in_stock': Decimal128('2178597.89')}]\n"
     ]
    }
   ],
   "source": [
    "pipeline = [\n",
    "    {\n",
    "        \"$project\": {\n",
    "            \"_id\": \"$product_category_name\",\n",
    "            \"multiply\": {\"$multiply\": [ {\"$sum\": \"$product_price\"}, {\"$sum\": \"$product_unit_available\"} ]}\n",
    "        }\n",
    "    },\n",
    "    {\n",
    "        \"$group\": {\n",
    "            \"_id\": \"$_id\",\n",
    "            \"avaiable_in_stock\": {\"$sum\": \"$multiply\"}\n",
    "          }\n",
    "    }\n",
    "]\n",
    "\n",
    "\n",
    "print(\"Остаточная стоимость товаров в каждой категории:\")\n",
    "pprint.pprint(list(mydb.products.aggregate(pipeline)))\n",
    "\n"
   ]
  },
  {
   "cell_type": "markdown",
   "metadata": {},
   "source": [
    "#### Уменьшаем количество товаров на \"единицу\"\n",
    "Я не понял нужно ли результат записывать обратно в БД, поэтому дополнительных манипуляций делать не стал."
   ]
  },
  {
   "cell_type": "code",
   "execution_count": 7,
   "metadata": {},
   "outputs": [],
   "source": [
    "pipeline2 = [\n",
    "    {\n",
    "        \"$project\": {\n",
    "            \"_id\": \"$_id\",\n",
    "            \"product_unit_available\": {\"$sum\": [\"$product_unit_available\",-1]},\n",
    "            'product_category_name': 1,\n",
    "            'product_name': 1,\n",
    "            'product_price': 1\n",
    " \n",
    "        }\n",
    "    }\n",
    "]"
   ]
  },
  {
   "cell_type": "code",
   "execution_count": 8,
   "metadata": {},
   "outputs": [
    {
     "name": "stdout",
     "output_type": "stream",
     "text": [
      "Уменьшаем количество товаров на 1\n",
      "[{'_id': ObjectId('5dd1c3ebf5c2b82ff82c2669'),\n",
      "  'product_category_name': 'Бритвы',\n",
      "  'product_name': 'Бритва Braun XXL',\n",
      "  'product_price': Decimal128('1000.10'),\n",
      "  'product_unit_available': 99},\n",
      " {'_id': ObjectId('5dd1c520a368412ff812a8f2'),\n",
      "  'product_category_name': 'Бритвы',\n",
      "  'product_name': 'Бритва Gilette Mini',\n",
      "  'product_price': Decimal128('525.15'),\n",
      "  'product_unit_available': 9},\n",
      " {'_id': ObjectId('5dd1c555a368412ff812a8f3'),\n",
      "  'product_category_name': 'Батарейки ААА',\n",
      "  'product_name': 'Батарейки Ikea AAA 16 шт.',\n",
      "  'product_price': Decimal128('325.99'),\n",
      "  'product_unit_available': 10},\n",
      " {'_id': ObjectId('5dd1c574a368412ff812a8f4'),\n",
      "  'product_category_name': 'Батарейки ААА',\n",
      "  'product_name': 'Батарейки PKCell AAA 32 шт.',\n",
      "  'product_price': Decimal128('3699'),\n",
      "  'product_unit_available': 587}]\n"
     ]
    }
   ],
   "source": [
    "print(\"Уменьшаем количество товаров на 1\")\n",
    "pprint.pprint(list(mydb.products.aggregate(pipeline2)))"
   ]
  },
  {
   "cell_type": "markdown",
   "metadata": {},
   "source": [
    "#### Выводим два самых дорогих товара"
   ]
  },
  {
   "cell_type": "code",
   "execution_count": 9,
   "metadata": {},
   "outputs": [],
   "source": [
    "pipeline3 = [\n",
    "    {\n",
    "        \"$match\":{\n",
    "            \n",
    "        }\n",
    "    },\n",
    "    {\n",
    "         \"$sort\": {\"product_price\": -1}\n",
    "    },\n",
    "    {\n",
    "        \"$limit\": 2\n",
    "    }\n",
    "]"
   ]
  },
  {
   "cell_type": "code",
   "execution_count": 10,
   "metadata": {},
   "outputs": [
    {
     "name": "stdout",
     "output_type": "stream",
     "text": [
      "TOP-2 самых дорогих товара:\n",
      "[{'_id': ObjectId('5dd1c574a368412ff812a8f4'),\n",
      "  'product_category_name': 'Батарейки ААА',\n",
      "  'product_name': 'Батарейки PKCell AAA 32 шт.',\n",
      "  'product_price': Decimal128('3699'),\n",
      "  'product_unit_available': 588},\n",
      " {'_id': ObjectId('5dd1c3ebf5c2b82ff82c2669'),\n",
      "  'product_category_name': 'Бритвы',\n",
      "  'product_name': 'Бритва Braun XXL',\n",
      "  'product_price': Decimal128('1000.10'),\n",
      "  'product_unit_available': 100}]\n"
     ]
    }
   ],
   "source": [
    "print(\"TOP-2 самых дорогих товара:\")\n",
    "pprint.pprint(list(mydb.products.aggregate(pipeline3)))"
   ]
  }
 ],
 "metadata": {
  "kernelspec": {
   "display_name": "Python 3",
   "language": "python",
   "name": "python3"
  },
  "language_info": {
   "codemirror_mode": {
    "name": "ipython",
    "version": 3
   },
   "file_extension": ".py",
   "mimetype": "text/x-python",
   "name": "python",
   "nbconvert_exporter": "python",
   "pygments_lexer": "ipython3",
   "version": "3.7.3"
  }
 },
 "nbformat": 4,
 "nbformat_minor": 2
}
