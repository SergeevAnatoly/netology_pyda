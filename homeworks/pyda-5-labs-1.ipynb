{
 "cells": [
  {
   "cell_type": "markdown",
   "metadata": {},
   "source": [
    "## Задача 1 \n",
    "Дана строка \n",
    "\n",
    "string_01 = “Mama, just killed a man, put a gun against his head, pulled my trigger, now he's dead. Mama, life had just begun, but now I've gone and thrown it all away. Mama, ooh (any way the wind blows), didn't mean to make you cry. If I'm not back again this time tomorrow carry on, carry on as if nothing really matters.” \n",
    "\n",
    "1.Посчитайте, сколько в строке символов (исключая пробелы).\n",
    "\n",
    "2.Посчитайте, сколько в строке слов.\n",
    "\n",
    "3.Напишите функцию, которая будет принимать в качестве аргумента букву и выводить все слова из строки, заканчивающиеся на эту букву (например, “s”).\n",
    "\n",
    "4.Не обязательно: Напишите функцию, которая будет принимать в качестве аргумента букву и выводить все слова из строки, начинающиеся на эту букву (например, “m”)"
   ]
  },
  {
   "cell_type": "code",
   "execution_count": 1,
   "metadata": {},
   "outputs": [],
   "source": [
    "string_01 = \"Mama, just killed a man, put a gun against his head, pulled my trigger, now he's dead. Mama, life had just begun, but now I've gone and thrown it all away. Mama, ooh (any way the wind blows), didn't mean to make you cry. If I'm not back again this time tomorrow carry on, carry on as if nothing really matters.\""
   ]
  },
  {
   "cell_type": "code",
   "execution_count": 2,
   "metadata": {},
   "outputs": [
    {
     "name": "stdout",
     "output_type": "stream",
     "text": [
      "Количество символов в строке (исключая пробелы) равно 250\n"
     ]
    }
   ],
   "source": [
    "print(f'Количество символов в строке (исключая пробелы) равно {len(string_01.replace(\" \", \"\"))}')"
   ]
  },
  {
   "cell_type": "code",
   "execution_count": 3,
   "metadata": {},
   "outputs": [
    {
     "name": "stdout",
     "output_type": "stream",
     "text": [
      "Количество слов в строке: 61\n"
     ]
    }
   ],
   "source": [
    "print(f'Количество слов в строке: {len(string_01.split(\" \"))}')"
   ]
  },
  {
   "cell_type": "code",
   "execution_count": 4,
   "metadata": {},
   "outputs": [],
   "source": [
    "import re\n",
    "\n",
    "def find_words_with_letter_ends(string, letter):\n",
    "    \"\"\"\n",
    "    Выводит все слова из строки `string`, заканчивающиеся на эту букву (например, “s”).\n",
    "    \"\"\"\n",
    "    \n",
    "    result = []\n",
    "    \n",
    "    # Приводим строку к нижнему регистру\n",
    "    string = string.lower()\n",
    "    \n",
    "    # Очищаем строку от знаков препинания \n",
    "    regexp = re.compile('[^a-zA-Z ]')\n",
    "    string = regexp.sub('', string)\n",
    "\n",
    "    # Разбиваем строку на слова по \"пробелу\"    \n",
    "    string = string.split(' ')\n",
    "    \n",
    "    # Пробегаемся по списку   \n",
    "    for l in string:\n",
    "        \n",
    "        # Смотрим на последний символ и если он == `letter` добавялем это слово в результат\n",
    "        if str(l[-1]) == str(letter):\n",
    "            result.append(l)\n",
    "    \n",
    "    return result\n",
    "    "
   ]
  },
  {
   "cell_type": "code",
   "execution_count": 5,
   "metadata": {},
   "outputs": [
    {
     "name": "stdout",
     "output_type": "stream",
     "text": [
      "Решение для пункта 3:\n",
      "['his', 'hes', 'blows', 'this', 'as', 'matters']\n"
     ]
    }
   ],
   "source": [
    "print(f\"Решение для пункта 3:\\n{find_words_with_letter_ends(string_01, 's')}\")"
   ]
  },
  {
   "cell_type": "code",
   "execution_count": 6,
   "metadata": {},
   "outputs": [],
   "source": [
    "import re\n",
    "\n",
    "def find_words_with_letter_starts(string, letter):\n",
    "    \"\"\"\n",
    "    Выводит все слова из строки `string`, начинающиеся на эту букву (например, “m”).\n",
    "    \"\"\"\n",
    "    \n",
    "    result = []\n",
    "    \n",
    "    # Приводим строку к нижнему регистру\n",
    "    string = string.lower()\n",
    "    \n",
    "    # Очищаем строку от знаков препинания \n",
    "    regexp = re.compile('[^a-zA-Z ]')\n",
    "    string = regexp.sub('', string)\n",
    "\n",
    "    # Разбиваем строку на слова по \"пробелу\"    \n",
    "    string = string.split(' ')\n",
    "    \n",
    "    # Пробегаемся по списку   \n",
    "    for l in string:\n",
    "        \n",
    "        # Смотрим на последний символ и если он == `letter` добавялем это слово в результат\n",
    "        if str(l[0]) == str(letter):\n",
    "            result.append(l)\n",
    "    \n",
    "      \n",
    "#     print(result)\n",
    "    return result"
   ]
  },
  {
   "cell_type": "code",
   "execution_count": 7,
   "metadata": {},
   "outputs": [
    {
     "name": "stdout",
     "output_type": "stream",
     "text": [
      "Решение для пункта 4:\n",
      "['mama', 'man', 'my', 'mama', 'mama', 'mean', 'make', 'matters']\n"
     ]
    }
   ],
   "source": [
    "print(f\"Решение для пункта 4:\\n{find_words_with_letter_starts(string_01, 'm')}\")"
   ]
  },
  {
   "cell_type": "markdown",
   "metadata": {},
   "source": [
    "## Задача 2\n",
    "\n",
    "Напишите код, который будет генерировать случайную последовательность из 6 цифр, одна из которых должна быть 3. Позиция цифры 3 должна определяться случайным образом. \n",
    "Результат должен быть строкой. Например:\n",
    "\"456309\" или \"330127\"."
   ]
  },
  {
   "cell_type": "code",
   "execution_count": 8,
   "metadata": {},
   "outputs": [],
   "source": [
    "import random\n",
    "\n",
    "def random_string_with_3():\n",
    "    result = []\n",
    "    \n",
    "    # Создаем список с пятью случайными числами от 0 до 9  \n",
    "    for number in range(5):\n",
    "        result.append(str(random.randint(0,9)))\n",
    "        \n",
    "    # Добавляем к списку 3\n",
    "    result.append(3)\n",
    "    \n",
    "    # Перемешиваем случайным образом\n",
    "    random.shuffle(result)\n",
    "    \n",
    "    # Приводим к строке и возвращаем результат\n",
    "    return ''.join(map(str, result))"
   ]
  },
  {
   "cell_type": "code",
   "execution_count": 9,
   "metadata": {},
   "outputs": [
    {
     "name": "stdout",
     "output_type": "stream",
     "text": [
      "Случайное число равно 774503\n"
     ]
    }
   ],
   "source": [
    "print(f'Случайное число равно {random_string_with_3()}')"
   ]
  },
  {
   "cell_type": "markdown",
   "metadata": {},
   "source": [
    "## Задача 3\n",
    "Дан список\n",
    "list_01 = [1, 1, 2, 3, 5, 8, 13, 21, 34, 55, 89, 144, 233, 377, 610]\n",
    "\n",
    "Напишите алгоритм, который выводит сумму элементов списка, которые больше\n",
    "10, но меньше 100.\n"
   ]
  },
  {
   "cell_type": "code",
   "execution_count": 10,
   "metadata": {},
   "outputs": [],
   "source": [
    "list_01 = [1, 1, 2, 3, 5, 8, 13, 21, 34, 55, 89, 144, 233, 377, 610]"
   ]
  },
  {
   "cell_type": "code",
   "execution_count": 11,
   "metadata": {},
   "outputs": [],
   "source": [
    "def sum_special_elems(_list):\n",
    "    \"\"\"\n",
    "    Суммирует элементы списка, которые 10<x<100\n",
    "    \"\"\"\n",
    "    summ = 0\n",
    "    for x in _list:\n",
    "        if x>10 and x<100:\n",
    "            summ += x\n",
    "    return summ"
   ]
  },
  {
   "cell_type": "code",
   "execution_count": 12,
   "metadata": {},
   "outputs": [
    {
     "name": "stdout",
     "output_type": "stream",
     "text": [
      "Сумма все элементов списка (которые больше 10 и меньше 100) равна 212\n"
     ]
    }
   ],
   "source": [
    "print(f'Сумма все элементов списка (которые больше 10 и меньше 100) равна {sum_special_elems(list_01)}')"
   ]
  },
  {
   "cell_type": "markdown",
   "metadata": {},
   "source": [
    "## Задача 4\n",
    "\n",
    "Данные студентов представлены в виде списка списков:\n",
    "students = [\n",
    " [\"0001\", \"Антонов\", \"Антон\", \"Игоревич\", \"20.08.2009\",\n",
    "\"БСТ161\"],\n",
    " [\"1102\", \"Богов\", \"Артем\", \"Игоревич\", \"25.01.2010\",\n",
    "\"БСТ162\"],\n",
    " [\"0333\", \"Глаголева\", \"Анастасия\", \"Николаевна\",\n",
    "\"11.07.2009\", \"БСТ163\"],\n",
    " [\"4004\", \"Степанова\", \"Наталья\", \"Александровна\",\n",
    "\"13.02.2008\", \"БСТ161\"],\n",
    " [\"0045\", \"Боков\", \"Игорь\", \"Харитонович\", \"02.06.2009\",\n",
    "\"БСТ161\"],\n",
    " [\"0096\", \"Васильков\", \"Валентин\", \"Сергеевич\", \"20.03.2009\",\n",
    "\"БСТ164\"],\n",
    " [\"0607\", \"Сиропова\", \"Виолетта\", \"Эдуардовна\", \"28.05.2010\",\n",
    "\"БСТ162\"],\n",
    " [\"0309\", \"Шафутинский\", \"Михаил\", \"Михайлович\",\n",
    "\"03.09.2007\", \"БСТ163\"]\n",
    " ]\n",
    "1. Преобразуйте данные таким образом, чтобы они были представлены в виде\n",
    "словаря, в котором ключами являются номера студентов, а значениями —\n",
    "список из других данных о студентах.\n",
    "2. Напишите функцию, которая принимает в качестве аргумента номер студента и\n",
    "новый номер группы и позволяет изменить номер группы этого студента на\n",
    "новый.\n",
    "3. Напишите функцию, которая принимает номер группы и выводит список\n",
    "(фамилии, имена, отчества) всех студентов этой группы."
   ]
  },
  {
   "cell_type": "code",
   "execution_count": 13,
   "metadata": {},
   "outputs": [],
   "source": [
    "students = [\n",
    "    [\"0001\", \"Антонов\", \"Антон\", \"Игоревич\", \"20.08.2009\",\"БСТ161\"],\n",
    "    [\"1102\", \"Богов\", \"Артем\", \"Игоревич\", \"25.01.2010\",\"БСТ162\"],\n",
    "    [\"0333\", \"Глаголева\", \"Анастасия\", \"Николаевна\",\"11.07.2009\", \"БСТ163\"],\n",
    "    [\"4004\", \"Степанова\", \"Наталья\", \"Александровна\",\"13.02.2008\", \"БСТ161\"],\n",
    "    [\"0045\", \"Боков\", \"Игорь\", \"Харитонович\", \"02.06.2009\",\"БСТ161\"],\n",
    "    [\"0096\", \"Васильков\", \"Валентин\", \"Сергеевич\", \"20.03.2009\",\"БСТ164\"],\n",
    "    [\"0607\", \"Сиропова\", \"Виолетта\", \"Эдуардовна\", \"28.05.2010\",\"БСТ162\"],\n",
    "    [\"0309\", \"Шафутинский\", \"Михаил\", \"Михайлович\",\"03.09.2007\", \"БСТ163\"]\n",
    " ]"
   ]
  },
  {
   "cell_type": "code",
   "execution_count": 14,
   "metadata": {},
   "outputs": [
    {
     "data": {
      "text/plain": [
       "{'0001': ['Антонов', 'Антон', 'Игоревич', '20.08.2009', 'БСТ161'],\n",
       " '1102': ['Богов', 'Артем', 'Игоревич', '25.01.2010', 'БСТ162'],\n",
       " '0333': ['Глаголева', 'Анастасия', 'Николаевна', '11.07.2009', 'БСТ163'],\n",
       " '4004': ['Степанова', 'Наталья', 'Александровна', '13.02.2008', 'БСТ161'],\n",
       " '0045': ['Боков', 'Игорь', 'Харитонович', '02.06.2009', 'БСТ161'],\n",
       " '0096': ['Васильков', 'Валентин', 'Сергеевич', '20.03.2009', 'БСТ164'],\n",
       " '0607': ['Сиропова', 'Виолетта', 'Эдуардовна', '28.05.2010', 'БСТ162'],\n",
       " '0309': ['Шафутинский', 'Михаил', 'Михайлович', '03.09.2007', 'БСТ163']}"
      ]
     },
     "execution_count": 14,
     "metadata": {},
     "output_type": "execute_result"
    }
   ],
   "source": [
    "students_dict = {}\n",
    "\n",
    "# Пробегаемся по списку\n",
    "# Добавляем новую связку ключ:значение\n",
    "# Ключ - первый элемент каждог списка\n",
    "# Значение - список из остальных элементов\n",
    "for x in students:\n",
    "    students_dict.update({x[0]: x[1:]})\n",
    "students_dict"
   ]
  },
  {
   "cell_type": "code",
   "execution_count": 15,
   "metadata": {},
   "outputs": [],
   "source": [
    "# Решение задания из пункта 2\n",
    "def change_student_group(student_id, new_group_number):\n",
    "    \"\"\"\n",
    "    Принимает в качестве аргумента номер студента и новый номер группы и \n",
    "    позволяет изменить номер группы этого студента на новый.\n",
    "    \"\"\"\n",
    "    # Приводим параметры к типу String    \n",
    "    student_id = str(student_id)\n",
    "    new_group_number = str(new_group_number)\n",
    "    \n",
    "    # Обновляем по ключу значение в словаре\n",
    "    students_dict[student_id][4] = new_group_number\n",
    "    "
   ]
  },
  {
   "cell_type": "code",
   "execution_count": 16,
   "metadata": {},
   "outputs": [
    {
     "data": {
      "text/plain": [
       "{'0001': ['Антонов', 'Антон', 'Игоревич', '20.08.2009', 'БСТ161'],\n",
       " '1102': ['Богов', 'Артем', 'Игоревич', '25.01.2010', 'БСТ162'],\n",
       " '0333': ['Глаголева', 'Анастасия', 'Николаевна', '11.07.2009', 'БСТ163'],\n",
       " '4004': ['Степанова', 'Наталья', 'Александровна', '13.02.2008', 'БСТ161'],\n",
       " '0045': ['Боков', 'Игорь', 'Харитонович', '02.06.2009', 'БСТ161'],\n",
       " '0096': ['Васильков', 'Валентин', 'Сергеевич', '20.03.2009', 'XXXXX'],\n",
       " '0607': ['Сиропова', 'Виолетта', 'Эдуардовна', '28.05.2010', 'БСТ162'],\n",
       " '0309': ['Шафутинский', 'Михаил', 'Михайлович', '03.09.2007', 'БСТ163']}"
      ]
     },
     "execution_count": 16,
     "metadata": {},
     "output_type": "execute_result"
    }
   ],
   "source": [
    "change_student_group('0096', 'XXXXX')\n",
    "\n",
    "# Для контроля\n",
    "students_dict"
   ]
  },
  {
   "cell_type": "code",
   "execution_count": 17,
   "metadata": {},
   "outputs": [],
   "source": [
    "# Решение задания из пункта 3\n",
    "\n",
    "def print_FIO_students_from_group_number(group_id):\n",
    "    \"\"\"\n",
    "    Принимает номер группы и выводит список (фамилии, имена, отчества) всех студентов этой группы.\n",
    "    \"\"\"\n",
    "    \n",
    "    print(f'Список студентов группы \"{group_id}\":')\n",
    "    \n",
    "    # Пробегаемся по словарю\n",
    "    for x in students_dict:\n",
    "        \n",
    "        # Если номер группы == искомому номеру ---> Выводим информацию о студенте\n",
    "        if str(students_dict[x][4]).lower() == str(group_id).lower():\n",
    "            print(f'\\tФамилия:{students_dict[x][0]}, Имя: {students_dict[x][1]}, Отчество: {students_dict[x][2]}')\n",
    "    "
   ]
  },
  {
   "cell_type": "code",
   "execution_count": 18,
   "metadata": {},
   "outputs": [
    {
     "name": "stdout",
     "output_type": "stream",
     "text": [
      "Список студентов группы \"БСТ162\":\n",
      "\tФамилия:Богов, Имя: Артем, Отчество: Игоревич\n",
      "\tФамилия:Сиропова, Имя: Виолетта, Отчество: Эдуардовна\n"
     ]
    }
   ],
   "source": [
    "print_FIO_students_from_group_number('БСТ162')"
   ]
  },
  {
   "cell_type": "markdown",
   "metadata": {},
   "source": [
    "## Задача 5\n",
    "Дана матрица:\n",
    "\n",
    "matrix = [\n",
    "[0, 1, 2, 4, 8],\n",
    "[6, 2, 2, 1, 9],\n",
    "[3, 3, 3, 3, 3],\n",
    "[4, 6, 7, 1, 2],\n",
    "[5, 7, 3, 4, 0]\n",
    "]\n",
    "\n",
    "1. Выведите результат сложения всех элементов матрицы.\n",
    "2. Напишите алгоритм вычисления максимума из сумм элементов каждого\n",
    "столбца."
   ]
  },
  {
   "cell_type": "code",
   "execution_count": 19,
   "metadata": {},
   "outputs": [],
   "source": [
    "matrix = [\n",
    "[0, 1, 2, 4, 8],\n",
    "[6, 2, 2, 1, 9],\n",
    "[3, 3, 3, 3, 3],\n",
    "[4, 6, 7, 1, 2],\n",
    "[5, 7, 3, 4, 0]\n",
    "]"
   ]
  },
  {
   "cell_type": "code",
   "execution_count": 20,
   "metadata": {},
   "outputs": [],
   "source": [
    "summ_matrix = 0\n",
    "\n",
    "# Бежим по строкам и суммируем сумму каждой строки\n",
    "for x in matrix:\n",
    "    summ_matrix += sum(x)\n"
   ]
  },
  {
   "cell_type": "code",
   "execution_count": 21,
   "metadata": {},
   "outputs": [
    {
     "name": "stdout",
     "output_type": "stream",
     "text": [
      "Сумма всех элементов матрицы `matrix` равна 89\n"
     ]
    }
   ],
   "source": [
    "print(f'Сумма всех элементов матрицы `matrix` равна {summ_matrix}')"
   ]
  },
  {
   "cell_type": "code",
   "execution_count": 22,
   "metadata": {},
   "outputs": [
    {
     "name": "stdout",
     "output_type": "stream",
     "text": [
      "Максимальная сумма элементов столбцов равна 22\n"
     ]
    }
   ],
   "source": [
    "# Решение задания из пункта 2\n",
    "import pandas as pd\n",
    "\n",
    "# Переводим матрицу в dataframe\n",
    "df = pd.DataFrame(matrix)\n",
    "\n",
    "# Транспонируем df\n",
    "df = df.T\n",
    "\n",
    "# Суммируем каждую строку и сразу ищем максимум\n",
    "print(f'Максимальная сумма элементов столбцов равна {df.sum(axis=1).max()}')\n"
   ]
  }
 ],
 "metadata": {
  "kernelspec": {
   "display_name": "Python 3",
   "language": "python",
   "name": "python3"
  },
  "language_info": {
   "codemirror_mode": {
    "name": "ipython",
    "version": 3
   },
   "file_extension": ".py",
   "mimetype": "text/x-python",
   "name": "python",
   "nbconvert_exporter": "python",
   "pygments_lexer": "ipython3",
   "version": "3.7.3"
  }
 },
 "nbformat": 4,
 "nbformat_minor": 2
}
