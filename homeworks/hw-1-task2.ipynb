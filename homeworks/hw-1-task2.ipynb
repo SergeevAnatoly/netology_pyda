{
 "cells": [
  {
   "cell_type": "markdown",
   "metadata": {},
   "source": [
    "## Задание 2\n",
    "\n",
    "Дано значение объема файла в байтах. Напишите перевод этого значения в мегабайты в формате:\n",
    "_Объем файла равен 213.68Mb_\n"
   ]
  },
  {
   "cell_type": "code",
   "execution_count": 74,
   "metadata": {},
   "outputs": [
    {
     "name": "stdout",
     "output_type": "stream",
     "text": [
      "Введит размер файла (в байтах): 10486\n"
     ]
    }
   ],
   "source": [
    "# Получаем размер файла в байтах\n",
    "file_size = int(input('Введит размер файла (в байтах): '))"
   ]
  },
  {
   "cell_type": "code",
   "execution_count": 75,
   "metadata": {},
   "outputs": [
    {
     "name": "stdout",
     "output_type": "stream",
     "text": [
      "Объем файла равен 0.01Mb\n"
     ]
    }
   ],
   "source": [
    "# Проводим вычисления с условием\n",
    "if file_size >= 10485:\n",
    "    result = round((  (file_size / 1024)   / 1024),2)\n",
    "    print(f'Объем файла равен {result}Mb')\n",
    "    \n",
    "else:\n",
    "    print(f'Объем файла < 0.01Mb')"
   ]
  }
 ],
 "metadata": {
  "kernelspec": {
   "display_name": "Python 3",
   "language": "python",
   "name": "python3"
  },
  "language_info": {
   "codemirror_mode": {
    "name": "ipython",
    "version": 3
   },
   "file_extension": ".py",
   "mimetype": "text/x-python",
   "name": "python",
   "nbconvert_exporter": "python",
   "pygments_lexer": "ipython3",
   "version": "3.7.3"
  }
 },
 "nbformat": 4,
 "nbformat_minor": 2
}
