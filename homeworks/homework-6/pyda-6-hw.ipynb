{
 "cells": [
  {
   "cell_type": "markdown",
   "metadata": {},
   "source": [
    "### Решение задачи 1\n",
    "Скачайте с сайта https://grouplens.org/datasets/movielens/ датасет любого размера. Определите какому фильму было выставлено больше всего оценок 5.0."
   ]
  },
  {
   "cell_type": "code",
   "execution_count": 1,
   "metadata": {},
   "outputs": [],
   "source": [
    "import pandas as pd"
   ]
  },
  {
   "cell_type": "code",
   "execution_count": 2,
   "metadata": {},
   "outputs": [],
   "source": [
    "#Читаем CSV-файл\n",
    "df = pd.read_csv('ratings.csv')"
   ]
  },
  {
   "cell_type": "code",
   "execution_count": 3,
   "metadata": {},
   "outputs": [
    {
     "name": "stdout",
     "output_type": "stream",
     "text": [
      "Фильм с максимальным количеством оценок \"5\" - это movieId = 318\n"
     ]
    }
   ],
   "source": [
    "# Оставляем фильмы, у которых были оценки \"5\"\n",
    "five_star_moivies = df.loc[df['rating'] == 5]\n",
    "\n",
    "# Считаем количество пятерок у каждого фильма\n",
    "five_star_moivies = five_star_moivies['movieId'].value_counts()\n",
    "\n",
    "# Забираем ID первого элемента в серии\n",
    "print(f'Фильм с максимальным количеством оценок \"5\" - это movieId = {five_star_moivies.keys()[0]}')"
   ]
  },
  {
   "cell_type": "markdown",
   "metadata": {},
   "source": [
    "### Решение задачи 2\n",
    "По данным файла power.csv посчитайте суммарное потребление стран Прибалтики (Латвия, Литва и Эстония) категорий 4, 12 и 21 за период с 2005 по 2010 года. Не учитывайте в расчетах отрицательные значения quantity."
   ]
  },
  {
   "cell_type": "code",
   "execution_count": 4,
   "metadata": {},
   "outputs": [],
   "source": [
    "import pandas as pd"
   ]
  },
  {
   "cell_type": "code",
   "execution_count": 5,
   "metadata": {},
   "outputs": [],
   "source": [
    "#Читаем CSV-файл\n",
    "df = pd.read_csv('power.csv')"
   ]
  },
  {
   "cell_type": "code",
   "execution_count": 6,
   "metadata": {},
   "outputs": [],
   "source": [
    "# В этом блоке определяем параметры по которым будем фильтровать наш df\n",
    "\n",
    "# Страны \n",
    "df_country_filters = ['Lithuania', 'Estonia', 'Latvia']\n",
    "\n",
    "# Категории\n",
    "df_category_filters = [4, 12, 21]\n",
    "\n",
    "# Год начала отчетного периода\n",
    "df_years_start_filters = 2005\n",
    "# Год начала отчетного периода\n",
    "df_years_end_filters = 2010\n",
    "\n",
    "# Минимальный уровень потребления\n",
    "df_quantity_filters = 0\n"
   ]
  },
  {
   "cell_type": "code",
   "execution_count": 7,
   "metadata": {},
   "outputs": [],
   "source": [
    "# Фильтруем наш df\n",
    "df.query('\\\n",
    "            country in @df_country_filters \\\n",
    "            and quantity >= @df_quantity_filters \\\n",
    "            and category in @df_category_filters \\\n",
    "            and year >= @df_years_start_filters \\\n",
    "            and year <= @df_years_end_filters\\\n",
    "            ', \\\n",
    "         inplace=True)\n"
   ]
  },
  {
   "cell_type": "code",
   "execution_count": 8,
   "metadata": {},
   "outputs": [],
   "source": [
    "# Оставляем только нужные нам столбцы\n",
    "df = df[['country', 'quantity']]"
   ]
  },
  {
   "cell_type": "code",
   "execution_count": 9,
   "metadata": {},
   "outputs": [
    {
     "data": {
      "text/html": [
       "<div>\n",
       "<style scoped>\n",
       "    .dataframe tbody tr th:only-of-type {\n",
       "        vertical-align: middle;\n",
       "    }\n",
       "\n",
       "    .dataframe tbody tr th {\n",
       "        vertical-align: top;\n",
       "    }\n",
       "\n",
       "    .dataframe thead th {\n",
       "        text-align: right;\n",
       "    }\n",
       "</style>\n",
       "<table border=\"1\" class=\"dataframe\">\n",
       "  <thead>\n",
       "    <tr style=\"text-align: right;\">\n",
       "      <th></th>\n",
       "      <th>quantity</th>\n",
       "    </tr>\n",
       "    <tr>\n",
       "      <th>country</th>\n",
       "      <th></th>\n",
       "    </tr>\n",
       "  </thead>\n",
       "  <tbody>\n",
       "    <tr>\n",
       "      <th>Estonia</th>\n",
       "      <td>63440.0</td>\n",
       "    </tr>\n",
       "    <tr>\n",
       "      <th>Latvia</th>\n",
       "      <td>54844.0</td>\n",
       "    </tr>\n",
       "    <tr>\n",
       "      <th>Lithuania</th>\n",
       "      <td>122296.0</td>\n",
       "    </tr>\n",
       "  </tbody>\n",
       "</table>\n",
       "</div>"
      ],
      "text/plain": [
       "           quantity\n",
       "country            \n",
       "Estonia     63440.0\n",
       "Latvia      54844.0\n",
       "Lithuania  122296.0"
      ]
     },
     "execution_count": 9,
     "metadata": {},
     "output_type": "execute_result"
    }
   ],
   "source": [
    "# Группируем и суммируем\n",
    "df = df.groupby(['country']).sum()\n",
    "\n",
    "# Выводим результат на экран Юпитера\n",
    "df"
   ]
  },
  {
   "cell_type": "markdown",
   "metadata": {},
   "source": [
    "### Решение задачи 3\n",
    "Выберите страницу любого сайта с табличными данными. Импортируйте таблицы в pandas dataframe."
   ]
  },
  {
   "cell_type": "code",
   "execution_count": 10,
   "metadata": {},
   "outputs": [],
   "source": [
    "import pandas as pd"
   ]
  },
  {
   "cell_type": "code",
   "execution_count": 11,
   "metadata": {},
   "outputs": [],
   "source": [
    "page_url = 'https://www.finanz.ru/valyuty/usd-rub'\n",
    "\n",
    "# Импортируем нужную нам страницу в df\n",
    "# attrs = {'class': 'news_table'} ---> указываем какой именно блок нам нужен\n",
    "# encoding='utf-8' ---> указываем кодировку страниц для корректного отображения кириллицы\n",
    "df = pd.read_html(page_url, attrs = {'class': 'news_table'}, encoding='utf-8')"
   ]
  },
  {
   "cell_type": "code",
   "execution_count": 12,
   "metadata": {},
   "outputs": [
    {
     "data": {
      "text/html": [
       "<div>\n",
       "<style scoped>\n",
       "    .dataframe tbody tr th:only-of-type {\n",
       "        vertical-align: middle;\n",
       "    }\n",
       "\n",
       "    .dataframe tbody tr th {\n",
       "        vertical-align: top;\n",
       "    }\n",
       "\n",
       "    .dataframe thead th {\n",
       "        text-align: right;\n",
       "    }\n",
       "</style>\n",
       "<table border=\"1\" class=\"dataframe\">\n",
       "  <thead>\n",
       "    <tr style=\"text-align: right;\">\n",
       "      <th></th>\n",
       "      <th>Дата</th>\n",
       "      <th>Закрытие</th>\n",
       "      <th>Открытие</th>\n",
       "      <th>Максимум</th>\n",
       "      <th>Минимум</th>\n",
       "    </tr>\n",
       "  </thead>\n",
       "  <tbody>\n",
       "    <tr>\n",
       "      <th>0</th>\n",
       "      <td>20.08.19</td>\n",
       "      <td>664509</td>\n",
       "      <td>669723</td>\n",
       "      <td>671013</td>\n",
       "      <td>664332</td>\n",
       "    </tr>\n",
       "    <tr>\n",
       "      <th>1</th>\n",
       "      <td>19.08.19</td>\n",
       "      <td>669988</td>\n",
       "      <td>666146</td>\n",
       "      <td>670475</td>\n",
       "      <td>662761</td>\n",
       "    </tr>\n",
       "    <tr>\n",
       "      <th>2</th>\n",
       "      <td>18.08.19</td>\n",
       "      <td>663195</td>\n",
       "      <td>665690</td>\n",
       "      <td>665690</td>\n",
       "      <td>656745</td>\n",
       "    </tr>\n",
       "    <tr>\n",
       "      <th>3</th>\n",
       "      <td>17.08.19</td>\n",
       "      <td>665690</td>\n",
       "      <td>665690</td>\n",
       "      <td>665690</td>\n",
       "      <td>665690</td>\n",
       "    </tr>\n",
       "    <tr>\n",
       "      <th>4</th>\n",
       "      <td>16.08.19</td>\n",
       "      <td>666146</td>\n",
       "      <td>660457</td>\n",
       "      <td>666146</td>\n",
       "      <td>658609</td>\n",
       "    </tr>\n",
       "    <tr>\n",
       "      <th>5</th>\n",
       "      <td>15.08.19</td>\n",
       "      <td>660768</td>\n",
       "      <td>660883</td>\n",
       "      <td>665773</td>\n",
       "      <td>656678</td>\n",
       "    </tr>\n",
       "    <tr>\n",
       "      <th>6</th>\n",
       "      <td>14.08.19</td>\n",
       "      <td>660595</td>\n",
       "      <td>649135</td>\n",
       "      <td>661139</td>\n",
       "      <td>649068</td>\n",
       "    </tr>\n",
       "    <tr>\n",
       "      <th>7</th>\n",
       "      <td>13.08.19</td>\n",
       "      <td>649139</td>\n",
       "      <td>654384</td>\n",
       "      <td>658773</td>\n",
       "      <td>647909</td>\n",
       "    </tr>\n",
       "    <tr>\n",
       "      <th>8</th>\n",
       "      <td>12.08.19</td>\n",
       "      <td>654513</td>\n",
       "      <td>652600</td>\n",
       "      <td>656787</td>\n",
       "      <td>652505</td>\n",
       "    </tr>\n",
       "    <tr>\n",
       "      <th>9</th>\n",
       "      <td>11.08.19</td>\n",
       "      <td>654345</td>\n",
       "      <td>652865</td>\n",
       "      <td>655210</td>\n",
       "      <td>652865</td>\n",
       "    </tr>\n",
       "  </tbody>\n",
       "</table>\n",
       "</div>"
      ],
      "text/plain": [
       "       Дата  Закрытие  Открытие  Максимум  Минимум\n",
       "0  20.08.19    664509    669723    671013   664332\n",
       "1  19.08.19    669988    666146    670475   662761\n",
       "2  18.08.19    663195    665690    665690   656745\n",
       "3  17.08.19    665690    665690    665690   665690\n",
       "4  16.08.19    666146    660457    666146   658609\n",
       "5  15.08.19    660768    660883    665773   656678\n",
       "6  14.08.19    660595    649135    661139   649068\n",
       "7  13.08.19    649139    654384    658773   647909\n",
       "8  12.08.19    654513    652600    656787   652505\n",
       "9  11.08.19    654345    652865    655210   652865"
      ]
     },
     "execution_count": 12,
     "metadata": {},
     "output_type": "execute_result"
    }
   ],
   "source": [
    "# Выводим на экран df\n",
    "df[0]"
   ]
  }
 ],
 "metadata": {
  "kernelspec": {
   "display_name": "Python 3",
   "language": "python",
   "name": "python3"
  },
  "language_info": {
   "codemirror_mode": {
    "name": "ipython",
    "version": 3
   },
   "file_extension": ".py",
   "mimetype": "text/x-python",
   "name": "python",
   "nbconvert_exporter": "python",
   "pygments_lexer": "ipython3",
   "version": "3.7.3"
  }
 },
 "nbformat": 4,
 "nbformat_minor": 2
}
