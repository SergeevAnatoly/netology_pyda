{
 "cells": [
  {
   "cell_type": "markdown",
   "metadata": {},
   "source": [
    "### Решение задачи 1\n",
    "Создайте numpy array с элементами от числа N до 0 (например, для N = 10 это будет array([9, 8, 7, 6, 5, 4, 3, 2, 1, 0]))."
   ]
  },
  {
   "cell_type": "code",
   "execution_count": 2,
   "metadata": {},
   "outputs": [],
   "source": [
    "import numpy as np"
   ]
  },
  {
   "cell_type": "code",
   "execution_count": 28,
   "metadata": {},
   "outputs": [
    {
     "name": "stdout",
     "output_type": "stream",
     "text": [
      "Отсортированный массив numpy в обратном порятке: [9 8 7 6 5 4 3 2 1 0]\n"
     ]
    }
   ],
   "source": [
    "new = np.arange(0, 10, 1)[::-1]\n",
    "print(f'Отсортированный массив numpy в обратном порятке: {new}')"
   ]
  },
  {
   "cell_type": "markdown",
   "metadata": {},
   "source": [
    "### Решение задачи 2\n",
    "Создайте диагональную матрицу с элементами от N до 0. Посчитайте сумму ее значений на диагонали.\n"
   ]
  },
  {
   "cell_type": "code",
   "execution_count": 13,
   "metadata": {},
   "outputs": [
    {
     "name": "stdout",
     "output_type": "stream",
     "text": [
      "Введите начальное число: 11\n",
      "Сумма элементов на диагонали матрицы равна 55\n",
      "Сумма элементов на диагонали матрицы равна 55\n"
     ]
    }
   ],
   "source": [
    "import numpy as np\n",
    "\n",
    "N = int(input('Введите начальное число: '))\n",
    "new = np.arange(0, N, 1)[::-1]\n",
    "matrix = np.diag(new, k=0)\n",
    "\n",
    "# Сумма элементов по диагонали\n",
    "sum_diag_matrix = 0\n",
    "\n",
    "# Если матрица с нулями везде, кроме диагонали\n",
    "print(f'Сумма элементов на диагонали матрицы равна {sum(sum(matrix))}')\n",
    "\n",
    "# Если будет другая матрица, где значения не нулевые везде\n",
    "for i,x in enumerate(matrix):\n",
    "    sum_diag_matrix += matrix[i][i]\n",
    "  \n",
    "print(f'Сумма элементов на диагонали матрицы равна {sum_diag_matrix}')"
   ]
  },
  {
   "cell_type": "markdown",
   "metadata": {},
   "source": [
    "### Решение задачи 3\n",
    "Решите систему уравнений:\n",
    "\n",
    "\n",
    "4x + 2y + z = 4\n",
    "\n",
    "x + 3y = 12\n",
    "\n",
    "5y + 4z = -3"
   ]
  },
  {
   "cell_type": "code",
   "execution_count": 65,
   "metadata": {},
   "outputs": [],
   "source": [
    "left = np.array( [ [4, 2, 1], [1, 3, 0], [0, 5, 4] ] )\n",
    "right = np.array( [4, 12, -3] )"
   ]
  },
  {
   "cell_type": "code",
   "execution_count": 66,
   "metadata": {},
   "outputs": [],
   "source": [
    "x,y,z = np.linalg.solve(left, right)"
   ]
  },
  {
   "cell_type": "code",
   "execution_count": 68,
   "metadata": {},
   "outputs": [
    {
     "name": "stdout",
     "output_type": "stream",
     "text": [
      "x=0.4666666666666668\n",
      "y=3.844444444444444\n",
      "z=-5.555555555555555\n"
     ]
    }
   ],
   "source": [
    "print(f'x={x}\\ny={y}\\nz={z}')"
   ]
  }
 ],
 "metadata": {
  "kernelspec": {
   "display_name": "Python 3",
   "language": "python",
   "name": "python3"
  },
  "language_info": {
   "codemirror_mode": {
    "name": "ipython",
    "version": 3
   },
   "file_extension": ".py",
   "mimetype": "text/x-python",
   "name": "python",
   "nbconvert_exporter": "python",
   "pygments_lexer": "ipython3",
   "version": "3.7.3"
  }
 },
 "nbformat": 4,
 "nbformat_minor": 2
}
