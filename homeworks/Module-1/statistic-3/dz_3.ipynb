{
 "cells": [
  {
   "cell_type": "markdown",
   "metadata": {
    "colab_type": "text",
    "id": "9wqpiQR2AbtX"
   },
   "source": [
    "# Домашнее задание №3"
   ]
  },
  {
   "cell_type": "code",
   "execution_count": 1,
   "metadata": {
    "colab": {},
    "colab_type": "code",
    "id": "Zo_j9HCKCPgi"
   },
   "outputs": [
    {
     "name": "stdout",
     "output_type": "stream",
     "text": [
      "Wall time: 5.53 s\n"
     ]
    }
   ],
   "source": [
    "%%time\n",
    "import numpy as np\n",
    "from scipy.stats import t\n",
    "from scipy.stats import norm\n",
    "import matplotlib.pyplot as plt\n",
    "from scipy import stats\n",
    "import pandas as pd\n",
    "import io\n",
    "import requests\n",
    "import seaborn as sns\n",
    "\n",
    "%matplotlib inline"
   ]
  },
  {
   "cell_type": "markdown",
   "metadata": {
    "colab_type": "text",
    "id": "LrhPyaIACZsb"
   },
   "source": [
    "Таблица Indian liver pations records."
   ]
  },
  {
   "cell_type": "code",
   "execution_count": 2,
   "metadata": {
    "colab": {
     "base_uri": "https://localhost:8080/",
     "height": 224
    },
    "colab_type": "code",
    "id": "LQWcltRn-vZc",
    "outputId": "57d517f0-64f9-47c1-e092-b724da8029a1"
   },
   "outputs": [
    {
     "name": "stdout",
     "output_type": "stream",
     "text": [
      "Wall time: 831 ms\n"
     ]
    },
    {
     "data": {
      "text/html": [
       "<div>\n",
       "<style scoped>\n",
       "    .dataframe tbody tr th:only-of-type {\n",
       "        vertical-align: middle;\n",
       "    }\n",
       "\n",
       "    .dataframe tbody tr th {\n",
       "        vertical-align: top;\n",
       "    }\n",
       "\n",
       "    .dataframe thead th {\n",
       "        text-align: right;\n",
       "    }\n",
       "</style>\n",
       "<table border=\"1\" class=\"dataframe\">\n",
       "  <thead>\n",
       "    <tr style=\"text-align: right;\">\n",
       "      <th></th>\n",
       "      <th>Age</th>\n",
       "      <th>Gender</th>\n",
       "      <th>Total_Bilirubin</th>\n",
       "      <th>Direct_Bilirubin</th>\n",
       "      <th>Alkaline_Phosphotase</th>\n",
       "      <th>Alamine_Aminotransferase</th>\n",
       "      <th>Aspartate_Aminotransferase</th>\n",
       "      <th>Total_Protiens</th>\n",
       "      <th>Albumin</th>\n",
       "      <th>Albumin_and_Globulin_Ratio</th>\n",
       "      <th>Dataset</th>\n",
       "    </tr>\n",
       "  </thead>\n",
       "  <tbody>\n",
       "    <tr>\n",
       "      <th>0</th>\n",
       "      <td>65</td>\n",
       "      <td>Female</td>\n",
       "      <td>0.7</td>\n",
       "      <td>0.1</td>\n",
       "      <td>187</td>\n",
       "      <td>16</td>\n",
       "      <td>18</td>\n",
       "      <td>6.8</td>\n",
       "      <td>3.3</td>\n",
       "      <td>0.90</td>\n",
       "      <td>1</td>\n",
       "    </tr>\n",
       "    <tr>\n",
       "      <th>1</th>\n",
       "      <td>62</td>\n",
       "      <td>Male</td>\n",
       "      <td>10.9</td>\n",
       "      <td>5.5</td>\n",
       "      <td>699</td>\n",
       "      <td>64</td>\n",
       "      <td>100</td>\n",
       "      <td>7.5</td>\n",
       "      <td>3.2</td>\n",
       "      <td>0.74</td>\n",
       "      <td>1</td>\n",
       "    </tr>\n",
       "    <tr>\n",
       "      <th>2</th>\n",
       "      <td>62</td>\n",
       "      <td>Male</td>\n",
       "      <td>7.3</td>\n",
       "      <td>4.1</td>\n",
       "      <td>490</td>\n",
       "      <td>60</td>\n",
       "      <td>68</td>\n",
       "      <td>7.0</td>\n",
       "      <td>3.3</td>\n",
       "      <td>0.89</td>\n",
       "      <td>1</td>\n",
       "    </tr>\n",
       "    <tr>\n",
       "      <th>3</th>\n",
       "      <td>58</td>\n",
       "      <td>Male</td>\n",
       "      <td>1.0</td>\n",
       "      <td>0.4</td>\n",
       "      <td>182</td>\n",
       "      <td>14</td>\n",
       "      <td>20</td>\n",
       "      <td>6.8</td>\n",
       "      <td>3.4</td>\n",
       "      <td>1.00</td>\n",
       "      <td>1</td>\n",
       "    </tr>\n",
       "    <tr>\n",
       "      <th>4</th>\n",
       "      <td>72</td>\n",
       "      <td>Male</td>\n",
       "      <td>3.9</td>\n",
       "      <td>2.0</td>\n",
       "      <td>195</td>\n",
       "      <td>27</td>\n",
       "      <td>59</td>\n",
       "      <td>7.3</td>\n",
       "      <td>2.4</td>\n",
       "      <td>0.40</td>\n",
       "      <td>1</td>\n",
       "    </tr>\n",
       "  </tbody>\n",
       "</table>\n",
       "</div>"
      ],
      "text/plain": [
       "   Age  Gender  Total_Bilirubin  Direct_Bilirubin  Alkaline_Phosphotase  \\\n",
       "0   65  Female              0.7               0.1                   187   \n",
       "1   62    Male             10.9               5.5                   699   \n",
       "2   62    Male              7.3               4.1                   490   \n",
       "3   58    Male              1.0               0.4                   182   \n",
       "4   72    Male              3.9               2.0                   195   \n",
       "\n",
       "   Alamine_Aminotransferase  Aspartate_Aminotransferase  Total_Protiens  \\\n",
       "0                        16                          18             6.8   \n",
       "1                        64                         100             7.5   \n",
       "2                        60                          68             7.0   \n",
       "3                        14                          20             6.8   \n",
       "4                        27                          59             7.3   \n",
       "\n",
       "   Albumin  Albumin_and_Globulin_Ratio  Dataset  \n",
       "0      3.3                        0.90        1  \n",
       "1      3.2                        0.74        1  \n",
       "2      3.3                        0.89        1  \n",
       "3      3.4                        1.00        1  \n",
       "4      2.4                        0.40        1  "
      ]
     },
     "execution_count": 2,
     "metadata": {},
     "output_type": "execute_result"
    }
   ],
   "source": [
    "%%time\n",
    "url=\"http://yustiks.ru/dataset/indian_liver_patient.csv\"\n",
    "data=pd.read_csv(url)\n",
    "data[:6].head()"
   ]
  },
  {
   "cell_type": "markdown",
   "metadata": {
    "colab_type": "text",
    "id": "XyNNmtvIDDy3"
   },
   "source": [
    "Columns:\n",
    "\n",
    "*  Age of the patient\n",
    "*  Gender of the patient\n",
    "*  Total Bilirubin\n",
    "*  Direct Bilirubin\n",
    "*  Alkaline Phosphotase\n",
    "*  Alamine Aminotransferase\n",
    "*  Aspartate Aminotransferase\n",
    "*  Total Protiens\n",
    "*  Albumin\n",
    "*  Albumin and Globulin Ratio\n",
    "*  Dataset: field used to split the data into two sets (patient with liver disease, or no disease)\n"
   ]
  },
  {
   "cell_type": "markdown",
   "metadata": {
    "colab_type": "text",
    "id": "3v0ZWcBVSOXK"
   },
   "source": [
    "Построить одномерную линейную регрессию Direct_Bilirubin и Total_Bilirubin. Построить график. Строим прямую с помощью уравнения которое мы посчитали. Предсказать несколько элементов из таблицы с помощью метода predict() и сравнить с результатом табличным."
   ]
  },
  {
   "cell_type": "code",
   "execution_count": 3,
   "metadata": {},
   "outputs": [
    {
     "name": "stdout",
     "output_type": "stream",
     "text": [
      "intercept: 0.1811674367972489\n",
      "slope: [0.39557996]\n"
     ]
    }
   ],
   "source": [
    "from sklearn.linear_model import LinearRegression\n",
    "age = data['Direct_Bilirubin']\n",
    "thalach = data['Total_Bilirubin']\n",
    "model = LinearRegression()\n",
    "result = model.fit(np.array(thalach).reshape(-1,1), age)\n",
    "\n",
    "print('intercept:', model.intercept_)\n",
    "\n",
    "print('slope:', model.coef_)"
   ]
  },
  {
   "cell_type": "code",
   "execution_count": 4,
   "metadata": {},
   "outputs": [
    {
     "name": "stdout",
     "output_type": "stream",
     "text": [
      "Общее уравнение регрессии имеет вид: y=kx+b\n",
      "Наше уравнение регрессии имеет вид: y=0.3956x+0.1812\n"
     ]
    }
   ],
   "source": [
    "print(f'Общее уравнение регрессии имеет вид: y=kx+b')\n",
    "print(f'Наше уравнение регрессии имеет вид: y={round(model.coef_[0], 4)}x+{round(model.intercept_, 4)}')"
   ]
  },
  {
   "cell_type": "markdown",
   "metadata": {
    "colab_type": "text",
    "id": "bv5rdcvPSi_O"
   },
   "source": [
    "Построить многомерную линейную регрессию для предсказания болезни (Dataset) от двух параметров. Параметры подобрать с помощью матрицы корреляций. Предсказать несколько значений из таблицы и сравнить результат модели от табличного значения."
   ]
  },
  {
   "cell_type": "code",
   "execution_count": 5,
   "metadata": {},
   "outputs": [
    {
     "data": {
      "image/png": "[encoded data removed]",
      "text/plain": [
       "<Figure size 864x864 with 2 Axes>"
      ]
     },
     "metadata": {
      "needs_background": "light"
     },
     "output_type": "display_data"
    }
   ],
   "source": [
    "# Смотрим матрицу корреляций для параметров\n",
    "sns.heatmap(data.corr(),annot=True,cmap='RdYlGn',linewidths=0.2) #data.corr()-->correlation matrix\n",
    "fig=plt.gcf()\n",
    "fig.set_size_inches(12,12)\n",
    "plt.show()\n",
    "\n",
    "\n",
    "# Выбираем [Albumin] и [Total_Protiens]\n",
    "# И как еще один параметр берем [Dataset]\n"
   ]
  },
  {
   "cell_type": "code",
   "execution_count": 6,
   "metadata": {},
   "outputs": [
    {
     "data": {
      "text/html": [
       "<div>\n",
       "<style scoped>\n",
       "    .dataframe tbody tr th:only-of-type {\n",
       "        vertical-align: middle;\n",
       "    }\n",
       "\n",
       "    .dataframe tbody tr th {\n",
       "        vertical-align: top;\n",
       "    }\n",
       "\n",
       "    .dataframe thead th {\n",
       "        text-align: right;\n",
       "    }\n",
       "</style>\n",
       "<table border=\"1\" class=\"dataframe\">\n",
       "  <thead>\n",
       "    <tr style=\"text-align: right;\">\n",
       "      <th></th>\n",
       "      <th>Albumin</th>\n",
       "      <th>Total_Protiens</th>\n",
       "      <th>Dataset</th>\n",
       "    </tr>\n",
       "  </thead>\n",
       "  <tbody>\n",
       "    <tr>\n",
       "      <th>0</th>\n",
       "      <td>3.3</td>\n",
       "      <td>6.8</td>\n",
       "      <td>1</td>\n",
       "    </tr>\n",
       "    <tr>\n",
       "      <th>1</th>\n",
       "      <td>3.2</td>\n",
       "      <td>7.5</td>\n",
       "      <td>1</td>\n",
       "    </tr>\n",
       "    <tr>\n",
       "      <th>2</th>\n",
       "      <td>3.3</td>\n",
       "      <td>7.0</td>\n",
       "      <td>1</td>\n",
       "    </tr>\n",
       "    <tr>\n",
       "      <th>3</th>\n",
       "      <td>3.4</td>\n",
       "      <td>6.8</td>\n",
       "      <td>1</td>\n",
       "    </tr>\n",
       "    <tr>\n",
       "      <th>4</th>\n",
       "      <td>2.4</td>\n",
       "      <td>7.3</td>\n",
       "      <td>1</td>\n",
       "    </tr>\n",
       "  </tbody>\n",
       "</table>\n",
       "</div>"
      ],
      "text/plain": [
       "   Albumin  Total_Protiens  Dataset\n",
       "0      3.3             6.8        1\n",
       "1      3.2             7.5        1\n",
       "2      3.3             7.0        1\n",
       "3      3.4             6.8        1\n",
       "4      2.4             7.3        1"
      ]
     },
     "execution_count": 6,
     "metadata": {},
     "output_type": "execute_result"
    }
   ],
   "source": [
    "# Для контроля\n",
    "data = data[ [\"Albumin\", \"Total_Protiens\", \"Dataset\"] ]\n",
    "data.head()"
   ]
  },
  {
   "cell_type": "code",
   "execution_count": 7,
   "metadata": {},
   "outputs": [
    {
     "name": "stdout",
     "output_type": "stream",
     "text": [
      "В матрице 0 отсутствующих значений(-я)\n"
     ]
    }
   ],
   "source": [
    "# Проверяем целостность данных\n",
    "print(f'В матрице {data.isnull().values.sum()} отсутствующих значений(-я)')\n",
    "\n",
    "# Где-то есть пропуски. Давайте заполним их медианой, например"
   ]
  },
  {
   "cell_type": "markdown",
   "metadata": {},
   "source": [
    "Предсказать несколько значений из таблицы и сравнить результат модели от табличного значения."
   ]
  },
  {
   "cell_type": "code",
   "execution_count": 8,
   "metadata": {},
   "outputs": [
    {
     "name": "stdout",
     "output_type": "stream",
     "text": [
      "intercept: 1.307233045881302\n",
      "slope: [ 0.19774841 -0.09903766]\n"
     ]
    }
   ],
   "source": [
    "\"\"\"\n",
    "Intercept - коэффициент b в уравнении прямой y=kx+b\n",
    "slope - коэффициент k в уравнении прямой y=kx+b\n",
    "\"\"\"\n",
    "\n",
    "\n",
    "# Получаем коэффициенты K и B для линейного уравнения регрессии\n",
    "from sklearn.linear_model import LinearRegression\n",
    "\n",
    "\n",
    "albumin = data['Albumin']\n",
    "total_protiens = data['Total_Protiens']\n",
    "dataset = data['Dataset']\n",
    "\n",
    "x = np.vstack([np.array(albumin), np.array(total_protiens)]).T\n",
    "y = np.array(dataset)\n",
    "\n",
    "# Строим модель\n",
    "model = LinearRegression().fit(x,y)\n",
    "\n",
    "# Печатаем данные\n",
    "print('intercept:', model.intercept_)\n",
    "print('slope:', model.coef_)\n"
   ]
  },
  {
   "cell_type": "code",
   "execution_count": 9,
   "metadata": {},
   "outputs": [
    {
     "data": {
      "text/plain": [
       "array([[3.3, 6.8],\n",
       "       [3.2, 7.5],\n",
       "       [3.3, 7. ],\n",
       "       ...,\n",
       "       [3.2, 6.4],\n",
       "       [3.4, 6.8],\n",
       "       [4.4, 7.3]])"
      ]
     },
     "execution_count": 9,
     "metadata": {},
     "output_type": "execute_result"
    }
   ],
   "source": [
    "# И пробуем предсказать для последних 5-ти значений из df\n",
    "\n",
    "predict = np.vstack([np.array(albumin), np.array(total_protiens)]).T\n",
    "\n",
    "# Для контроля\n",
    "predict"
   ]
  },
  {
   "cell_type": "code",
   "execution_count": 10,
   "metadata": {},
   "outputs": [
    {
     "name": "stdout",
     "output_type": "stream",
     "text": [
      "Предсказание модели:  [1.03930833 1.34580202 1.30618696 1.30612158 1.45435116]\n"
     ]
    }
   ],
   "source": [
    "# Предсказываем значения\n",
    "print('Предсказание модели: ', model.predict(predict)[-5:])"
   ]
  },
  {
   "cell_type": "code",
   "execution_count": 11,
   "metadata": {},
   "outputs": [
    {
     "data": {
      "text/html": [
       "<div>\n",
       "<style scoped>\n",
       "    .dataframe tbody tr th:only-of-type {\n",
       "        vertical-align: middle;\n",
       "    }\n",
       "\n",
       "    .dataframe tbody tr th {\n",
       "        vertical-align: top;\n",
       "    }\n",
       "\n",
       "    .dataframe thead th {\n",
       "        text-align: right;\n",
       "    }\n",
       "</style>\n",
       "<table border=\"1\" class=\"dataframe\">\n",
       "  <thead>\n",
       "    <tr style=\"text-align: right;\">\n",
       "      <th></th>\n",
       "      <th>Albumin</th>\n",
       "      <th>Total_Protiens</th>\n",
       "      <th>Dataset</th>\n",
       "      <th>Predict</th>\n",
       "    </tr>\n",
       "  </thead>\n",
       "  <tbody>\n",
       "    <tr>\n",
       "      <th>573</th>\n",
       "      <td>1.9</td>\n",
       "      <td>6.2</td>\n",
       "      <td>1</td>\n",
       "      <td>1.068922</td>\n",
       "    </tr>\n",
       "    <tr>\n",
       "      <th>574</th>\n",
       "      <td>2.4</td>\n",
       "      <td>6.6</td>\n",
       "      <td>1</td>\n",
       "      <td>1.128181</td>\n",
       "    </tr>\n",
       "    <tr>\n",
       "      <th>575</th>\n",
       "      <td>2.5</td>\n",
       "      <td>7.9</td>\n",
       "      <td>1</td>\n",
       "      <td>1.019207</td>\n",
       "    </tr>\n",
       "    <tr>\n",
       "      <th>576</th>\n",
       "      <td>2.2</td>\n",
       "      <td>5.3</td>\n",
       "      <td>1</td>\n",
       "      <td>1.217380</td>\n",
       "    </tr>\n",
       "    <tr>\n",
       "      <th>577</th>\n",
       "      <td>2.6</td>\n",
       "      <td>5.4</td>\n",
       "      <td>1</td>\n",
       "      <td>1.286576</td>\n",
       "    </tr>\n",
       "    <tr>\n",
       "      <th>578</th>\n",
       "      <td>1.6</td>\n",
       "      <td>5.9</td>\n",
       "      <td>2</td>\n",
       "      <td>1.039308</td>\n",
       "    </tr>\n",
       "    <tr>\n",
       "      <th>579</th>\n",
       "      <td>3.2</td>\n",
       "      <td>6.0</td>\n",
       "      <td>1</td>\n",
       "      <td>1.345802</td>\n",
       "    </tr>\n",
       "    <tr>\n",
       "      <th>580</th>\n",
       "      <td>3.2</td>\n",
       "      <td>6.4</td>\n",
       "      <td>1</td>\n",
       "      <td>1.306187</td>\n",
       "    </tr>\n",
       "    <tr>\n",
       "      <th>581</th>\n",
       "      <td>3.4</td>\n",
       "      <td>6.8</td>\n",
       "      <td>1</td>\n",
       "      <td>1.306122</td>\n",
       "    </tr>\n",
       "    <tr>\n",
       "      <th>582</th>\n",
       "      <td>4.4</td>\n",
       "      <td>7.3</td>\n",
       "      <td>2</td>\n",
       "      <td>1.454351</td>\n",
       "    </tr>\n",
       "  </tbody>\n",
       "</table>\n",
       "</div>"
      ],
      "text/plain": [
       "     Albumin  Total_Protiens  Dataset   Predict\n",
       "573      1.9             6.2        1  1.068922\n",
       "574      2.4             6.6        1  1.128181\n",
       "575      2.5             7.9        1  1.019207\n",
       "576      2.2             5.3        1  1.217380\n",
       "577      2.6             5.4        1  1.286576\n",
       "578      1.6             5.9        2  1.039308\n",
       "579      3.2             6.0        1  1.345802\n",
       "580      3.2             6.4        1  1.306187\n",
       "581      3.4             6.8        1  1.306122\n",
       "582      4.4             7.3        2  1.454351"
      ]
     },
     "execution_count": 11,
     "metadata": {},
     "output_type": "execute_result"
    }
   ],
   "source": [
    "data['Predict'] = model.predict(predict)\n",
    "data.tail(10)"
   ]
  },
  {
   "cell_type": "markdown",
   "metadata": {
    "colab_type": "text",
    "id": "ZWc_9uF3PQIo"
   },
   "source": [
    "Посчитать квартили для всех колонок. "
   ]
  },
  {
   "cell_type": "code",
   "execution_count": 12,
   "metadata": {},
   "outputs": [
    {
     "name": "stdout",
     "output_type": "stream",
     "text": [
      "---Q1---\n",
      "Albumin           2.600000\n",
      "Total_Protiens    5.800000\n",
      "Dataset           1.000000\n",
      "Predict           1.227202\n",
      "Name: 0.25, dtype: float64\n",
      "\n",
      "---Q2---\n",
      "Albumin           3.100000\n",
      "Total_Protiens    6.600000\n",
      "Dataset           1.000000\n",
      "Predict           1.296381\n",
      "Name: 0.5, dtype: float64\n",
      "\n",
      "---Q3---\n",
      "Albumin           3.800000\n",
      "Total_Protiens    7.200000\n",
      "Dataset           2.000000\n",
      "Predict           1.345867\n",
      "Name: 0.75, dtype: float64\n",
      "\n",
      "---Q4---\n",
      "Albumin           5.500000\n",
      "Total_Protiens    9.600000\n",
      "Dataset           2.000000\n",
      "Predict           1.553029\n",
      "Name: 1, dtype: float64\n"
     ]
    }
   ],
   "source": [
    "# Квартили всех колонок\n",
    "\n",
    "print('---Q1---')\n",
    "print(data.quantile(0.25, axis = 0))\n",
    "print()\n",
    "\n",
    "print('---Q2---')\n",
    "print(data.quantile(0.50, axis = 0))\n",
    "print()\n",
    "\n",
    "print('---Q3---')\n",
    "print(data.quantile(0.75, axis = 0))\n",
    "print()\n",
    "\n",
    "print('---Q4---')\n",
    "print(data.quantile(1, axis = 0))"
   ]
  },
  {
   "cell_type": "markdown",
   "metadata": {
    "colab_type": "text",
    "id": "7kwq4rqzOoz1"
   },
   "source": [
    "Построить график histogram двух выборок по наличию или отсутствию болезни: люди, возрастом до 50 лет, и люди после 50 лет. Посчитать среднее значение и квартиль 0.5 в данных выборках. Чем они отличаются?"
   ]
  },
  {
   "cell_type": "code",
   "execution_count": 13,
   "metadata": {},
   "outputs": [
    {
     "name": "stdout",
     "output_type": "stream",
     "text": [
      "Среднее значение для пациентов старше 50 лет равно 1.2391304347826086\n",
      "Квартиль .5 для пациентов старше 50 лет равен 1.0\n",
      "\n",
      "Среднее значение для пациентов младше 50 лет равно 1.3172804532577904\n",
      "Квартиль .5 для пациентов младше 50 лет равен 1.0\n",
      "\n",
      "\n",
      "Квартиль 0.5 - это граница в наборе данных, которые показывает, что слева от нее находится ровно 50% значения и справа оставшаяся часть\n",
      "Среднее - это величина, которая показывает какое среднее значение имеется весь набор данных\n"
     ]
    }
   ],
   "source": [
    "# Читаем данные\n",
    "url=\"http://yustiks.ru/dataset/indian_liver_patient.csv\"\n",
    "data=pd.read_csv(url)\n",
    "\n",
    "# Выборка Младше 50\n",
    "less_50 = data[ data['Age'] < 50 ]\n",
    "\n",
    "# Выборка Старше 50\n",
    "more_50 = data[ data['Age'] >= 50 ]\n",
    "\n",
    "\n",
    "print(f'Среднее значение для пациентов старше 50 лет равно {more_50[\"Dataset\"].mean()}')\n",
    "print(f'Квартиль .5 для пациентов старше 50 лет равен {more_50[\"Dataset\"].quantile([.5][0]) }')\n",
    "      \n",
    "print()\n",
    "      \n",
    "print(f'Среднее значение для пациентов младше 50 лет равно {less_50[\"Dataset\"].mean()}')\n",
    "print(f'Квартиль .5 для пациентов младше 50 лет равен {less_50[\"Dataset\"].quantile([.5][0]) }')\n",
    "\n",
    "print()\n",
    "print()\n",
    "      \n",
    "print(\"\"\"Квартиль 0.5 - это граница в наборе данных, которые показывает, что слева от нее находится ровно 50% значения и справа оставшаяся часть\"\"\")\n",
    "print(\"\"\"Среднее - это величина, которая показывает какое среднее значение имеется весь набор данных\"\"\")"
   ]
  },
  {
   "cell_type": "code",
   "execution_count": 14,
   "metadata": {},
   "outputs": [
    {
     "data": {
      "text/plain": [
       "'Геометрическое распределение'"
      ]
     },
     "execution_count": 14,
     "metadata": {},
     "output_type": "execute_result"
    },
    {
     "data": {
      "image/png": "[encoded data removed]",
      "text/plain": [
       "<Figure size 432x288 with 1 Axes>"
      ]
     },
     "metadata": {
      "needs_background": "light"
     },
     "output_type": "display_data"
    }
   ],
   "source": [
    "# Смотри распределение у людей младше 50\n",
    "sns.distplot(less_50['Dataset'])\n",
    "\n",
    "\"\"\"Геометрическое распределение\"\"\""
   ]
  },
  {
   "cell_type": "code",
   "execution_count": 15,
   "metadata": {},
   "outputs": [
    {
     "data": {
      "text/plain": [
       "'Распределение Бернулли'"
      ]
     },
     "execution_count": 15,
     "metadata": {},
     "output_type": "execute_result"
    },
    {
     "data": {
      "image/png": "[encoded data removed]",
      "text/plain": [
       "<Figure size 432x288 with 1 Axes>"
      ]
     },
     "metadata": {
      "needs_background": "light"
     },
     "output_type": "display_data"
    }
   ],
   "source": [
    "# Смотри распределение у людей старше 50\n",
    "sns.distplot(more_50['Dataset'])\n",
    "\n",
    "\"\"\"Распределение Бернулли\"\"\""
   ]
  },
  {
   "cell_type": "markdown",
   "metadata": {
    "colab_type": "text",
    "id": "QZVd-KyDQq38"
   },
   "source": [
    "\n",
    "Посчитать критерий одновыборочный t-критерий для выборки по критерию Total_Bilirubin у больных людей. Как показатель помогает понять, что выборки не похожа на генеральную совокупность?"
   ]
  },
  {
   "cell_type": "code",
   "execution_count": 16,
   "metadata": {},
   "outputs": [
    {
     "name": "stdout",
     "output_type": "stream",
     "text": [
      "t-value = 2.471063305746647\n",
      "p-value = 0.013871861207640042\n",
      "\n",
      "\u001b[1mВЫВОД: Так как p-value < 5%, то мы принимаем нулевую гипотезу, что наша выборка не похожа на генеральную совокупность.\n"
     ]
    }
   ],
   "source": [
    "\"\"\"\n",
    "Мы выдвигаем нулевую гипотезу о том, что наша выборка отличается от генеральной совокупности\n",
    "\"\"\"\n",
    "ill_total_blrbn = data[ data['Dataset'] == 1]['Total_Bilirubin']\n",
    "\n",
    "# считаем p-value\n",
    "t_value, p_value = stats.ttest_1samp(ill_total_blrbn, data['Total_Bilirubin'].mean())\n",
    "print(f't-value = {t_value}\\np-value = {p_value}')\n",
    "\n",
    "print()\n",
    "print(f'\\033[1mВЫВОД: Так как p-value < 5%, то мы принимаем нулевую гипотезу, что наша выборка не похожа на генеральную совокупность.')"
   ]
  },
  {
   "cell_type": "markdown",
   "metadata": {
    "colab_type": "text",
    "id": "dI901FRqRC8A"
   },
   "source": [
    "Посчитать критерий t для двух выборок: больные и здоровые (по критерию Total_Bilirubin). Имеют ли данные группы схожесть?"
   ]
  },
  {
   "cell_type": "code",
   "execution_count": 17,
   "metadata": {},
   "outputs": [
    {
     "name": "stdout",
     "output_type": "stream",
     "text": [
      "t-value = 5.441441126834863\n",
      "p-value = 7.801430929364345e-08\n",
      "\n",
      "\u001b[1mВЫВОД: Так как p-value < 5% и t-value высокое (5.4414), то мы понимаем, что наши две выборки не похожи друг на друга.\n"
     ]
    }
   ],
   "source": [
    "\"\"\"\n",
    "Нам нужно понять отличаются ли наши две выборки?\n",
    "Поэтому считаем духвыборочный t-критерий\n",
    "\"\"\"\n",
    "\n",
    "# Больные с критерием Total_Bilirubin\n",
    "ill_total_blrbn = data[ data['Dataset'] == 1]['Total_Bilirubin']\n",
    "\n",
    "#Здоровые с критерием Total_Bilirubin\n",
    "not_ill_total_blrbn = data[ data['Dataset'] == 2]['Total_Bilirubin']\n",
    "\n",
    "# Считаем двухвыборочный t-критерий\n",
    "p2_t_value, p2_p_value = stats.ttest_ind(ill_total_blrbn, not_ill_total_blrbn)\n",
    "\n",
    "print(f't-value = {p2_t_value}\\np-value = {p2_p_value}')\n",
    "\n",
    "\n",
    "print()\n",
    "print(f'\\033[1mВЫВОД: Так как p-value < 5% и t-value высокое ({round(p2_t_value, 4)}), то мы понимаем, что наши две выборки не похожи друг на друга.')"
   ]
  },
  {
   "cell_type": "markdown",
   "metadata": {
    "colab_type": "text",
    "id": "2e0YHsEqAnvv"
   },
   "source": [
    "Посчитать статистическую значимость для трех выборок (по возрасту) - 1ая группа от 1 до 30 лет, 2ая группа от 30 лет до 55, 3я группа более 55 по выборке Dataset. Сравнить с реальностью (они логично что будут отличаться)."
   ]
  },
  {
   "cell_type": "code",
   "execution_count": 18,
   "metadata": {},
   "outputs": [
    {
     "data": {
      "text/html": [
       "<div>\n",
       "<style scoped>\n",
       "    .dataframe tbody tr th:only-of-type {\n",
       "        vertical-align: middle;\n",
       "    }\n",
       "\n",
       "    .dataframe tbody tr th {\n",
       "        vertical-align: top;\n",
       "    }\n",
       "\n",
       "    .dataframe thead th {\n",
       "        text-align: right;\n",
       "    }\n",
       "</style>\n",
       "<table border=\"1\" class=\"dataframe\">\n",
       "  <thead>\n",
       "    <tr style=\"text-align: right;\">\n",
       "      <th></th>\n",
       "      <th>Age</th>\n",
       "      <th>Gender</th>\n",
       "      <th>Total_Bilirubin</th>\n",
       "      <th>Direct_Bilirubin</th>\n",
       "      <th>Alkaline_Phosphotase</th>\n",
       "      <th>Alamine_Aminotransferase</th>\n",
       "      <th>Aspartate_Aminotransferase</th>\n",
       "      <th>Total_Protiens</th>\n",
       "      <th>Albumin</th>\n",
       "      <th>Albumin_and_Globulin_Ratio</th>\n",
       "      <th>Dataset</th>\n",
       "    </tr>\n",
       "  </thead>\n",
       "  <tbody>\n",
       "    <tr>\n",
       "      <th>0</th>\n",
       "      <td>65</td>\n",
       "      <td>Female</td>\n",
       "      <td>0.7</td>\n",
       "      <td>0.1</td>\n",
       "      <td>187</td>\n",
       "      <td>16</td>\n",
       "      <td>18</td>\n",
       "      <td>6.8</td>\n",
       "      <td>3.3</td>\n",
       "      <td>0.90</td>\n",
       "      <td>1</td>\n",
       "    </tr>\n",
       "    <tr>\n",
       "      <th>1</th>\n",
       "      <td>62</td>\n",
       "      <td>Male</td>\n",
       "      <td>10.9</td>\n",
       "      <td>5.5</td>\n",
       "      <td>699</td>\n",
       "      <td>64</td>\n",
       "      <td>100</td>\n",
       "      <td>7.5</td>\n",
       "      <td>3.2</td>\n",
       "      <td>0.74</td>\n",
       "      <td>1</td>\n",
       "    </tr>\n",
       "    <tr>\n",
       "      <th>2</th>\n",
       "      <td>62</td>\n",
       "      <td>Male</td>\n",
       "      <td>7.3</td>\n",
       "      <td>4.1</td>\n",
       "      <td>490</td>\n",
       "      <td>60</td>\n",
       "      <td>68</td>\n",
       "      <td>7.0</td>\n",
       "      <td>3.3</td>\n",
       "      <td>0.89</td>\n",
       "      <td>1</td>\n",
       "    </tr>\n",
       "    <tr>\n",
       "      <th>3</th>\n",
       "      <td>58</td>\n",
       "      <td>Male</td>\n",
       "      <td>1.0</td>\n",
       "      <td>0.4</td>\n",
       "      <td>182</td>\n",
       "      <td>14</td>\n",
       "      <td>20</td>\n",
       "      <td>6.8</td>\n",
       "      <td>3.4</td>\n",
       "      <td>1.00</td>\n",
       "      <td>1</td>\n",
       "    </tr>\n",
       "    <tr>\n",
       "      <th>4</th>\n",
       "      <td>72</td>\n",
       "      <td>Male</td>\n",
       "      <td>3.9</td>\n",
       "      <td>2.0</td>\n",
       "      <td>195</td>\n",
       "      <td>27</td>\n",
       "      <td>59</td>\n",
       "      <td>7.3</td>\n",
       "      <td>2.4</td>\n",
       "      <td>0.40</td>\n",
       "      <td>1</td>\n",
       "    </tr>\n",
       "  </tbody>\n",
       "</table>\n",
       "</div>"
      ],
      "text/plain": [
       "   Age  Gender  Total_Bilirubin  Direct_Bilirubin  Alkaline_Phosphotase  \\\n",
       "0   65  Female              0.7               0.1                   187   \n",
       "1   62    Male             10.9               5.5                   699   \n",
       "2   62    Male              7.3               4.1                   490   \n",
       "3   58    Male              1.0               0.4                   182   \n",
       "4   72    Male              3.9               2.0                   195   \n",
       "\n",
       "   Alamine_Aminotransferase  Aspartate_Aminotransferase  Total_Protiens  \\\n",
       "0                        16                          18             6.8   \n",
       "1                        64                         100             7.5   \n",
       "2                        60                          68             7.0   \n",
       "3                        14                          20             6.8   \n",
       "4                        27                          59             7.3   \n",
       "\n",
       "   Albumin  Albumin_and_Globulin_Ratio  Dataset  \n",
       "0      3.3                        0.90        1  \n",
       "1      3.2                        0.74        1  \n",
       "2      3.3                        0.89        1  \n",
       "3      3.4                        1.00        1  \n",
       "4      2.4                        0.40        1  "
      ]
     },
     "execution_count": 18,
     "metadata": {},
     "output_type": "execute_result"
    }
   ],
   "source": [
    "# Читаем данные\n",
    "url=\"http://yustiks.ru/dataset/indian_liver_patient.csv\"\n",
    "data=pd.read_csv(url)\n",
    "data.head()"
   ]
  },
  {
   "cell_type": "code",
   "execution_count": 19,
   "metadata": {},
   "outputs": [],
   "source": [
    "# Создаем наши выборки\n",
    "low = data[ data['Age'] <=30 ]['Dataset']\n",
    "middle = data[ ((data['Age'] > 30) & (data['Age'] <= 55)) ]['Dataset']\n",
    "high = data[ data['Age'] < 55 ]['Dataset']\n"
   ]
  },
  {
   "cell_type": "code",
   "execution_count": 20,
   "metadata": {},
   "outputs": [
    {
     "name": "stdout",
     "output_type": "stream",
     "text": [
      "t-value = 8.272556299247242\n",
      "p-value = 0.000277112500827856\n",
      "\n",
      "\u001b[1mВЫВОД: Так как p-value < 5% (0.0003) и t-value высокое (8.2726), то мы понимаем, что наши три выборки не похожи друг на друга.\n"
     ]
    }
   ],
   "source": [
    "# Проведем множественное тестирование (ANOVA)\n",
    "p3_t_value, p3_p_value = stats.f_oneway(low, middle, high)\n",
    "\n",
    "\n",
    "print(f't-value = {p3_t_value}\\np-value = {p3_p_value}')\n",
    "\n",
    "\n",
    "print()\n",
    "print(f'\\033[1mВЫВОД: Так как p-value < 5% ({round(p3_p_value, 4)}) и t-value высокое ({round(p3_t_value, 4)}), то мы понимаем, что наши три выборки не похожи друг на друга.')"
   ]
  },
  {
   "cell_type": "markdown",
   "metadata": {
    "colab_type": "text",
    "id": "Jm1ESbSRRPOP"
   },
   "source": [
    "Вопросы задавать на почту yustiks@gmail.com"
   ]
  }
 ],
 "metadata": {
  "colab": {
   "collapsed_sections": [],
   "name": "dz_3.ipynb",
   "provenance": [],
   "toc_visible": true,
   "version": "0.3.2"
  },
  "kernelspec": {
   "display_name": "Python 3",
   "language": "python",
   "name": "python3"
  },
  "language_info": {
   "codemirror_mode": {
    "name": "ipython",
    "version": 3
   },
   "file_extension": ".py",
   "mimetype": "text/x-python",
   "name": "python",
   "nbconvert_exporter": "python",
   "pygments_lexer": "ipython3",
   "version": "3.7.3"
  }
 },
 "nbformat": 4,
 "nbformat_minor": 1
}
