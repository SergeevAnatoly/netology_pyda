{
 "cells": [
  {
   "cell_type": "code",
   "execution_count": 1,
   "metadata": {},
   "outputs": [],
   "source": [
    "import numpy as np\n",
    "import pandas as pd\n",
    "\n",
    "from sklearn.linear_model import LinearRegression"
   ]
  },
  {
   "cell_type": "markdown",
   "metadata": {},
   "source": [
    "## Гипотетическая ситуация\n",
    "Берем модель \"Таксист и чаевые\".\n",
    "У нас есть фичи:\n",
    "- Стоимость 1 км пути\n",
    "- Расстояние поездки\n",
    "- Количество пассажиров\n",
    "\n",
    "Целевая метрика - это \"Величина чаевых\". Расчитывается по формуле: Чаевые = [Расстояние поездки] х [Стоимость 1 км] х 5%"
   ]
  },
  {
   "cell_type": "code",
   "execution_count": 2,
   "metadata": {},
   "outputs": [
    {
     "data": {
      "text/html": [
       "<div>\n",
       "<style scoped>\n",
       "    .dataframe tbody tr th:only-of-type {\n",
       "        vertical-align: middle;\n",
       "    }\n",
       "\n",
       "    .dataframe tbody tr th {\n",
       "        vertical-align: top;\n",
       "    }\n",
       "\n",
       "    .dataframe thead th {\n",
       "        text-align: right;\n",
       "    }\n",
       "</style>\n",
       "<table border=\"1\" class=\"dataframe\">\n",
       "  <thead>\n",
       "    <tr style=\"text-align: right;\">\n",
       "      <th></th>\n",
       "      <th>distance</th>\n",
       "      <th>one_km_price</th>\n",
       "      <th>tip_percentage</th>\n",
       "      <th>passengers</th>\n",
       "      <th>tips</th>\n",
       "    </tr>\n",
       "  </thead>\n",
       "  <tbody>\n",
       "    <tr>\n",
       "      <th>0</th>\n",
       "      <td>34</td>\n",
       "      <td>12</td>\n",
       "      <td>0.05</td>\n",
       "      <td>4</td>\n",
       "      <td>20.4</td>\n",
       "    </tr>\n",
       "    <tr>\n",
       "      <th>1</th>\n",
       "      <td>22</td>\n",
       "      <td>12</td>\n",
       "      <td>0.05</td>\n",
       "      <td>4</td>\n",
       "      <td>13.2</td>\n",
       "    </tr>\n",
       "    <tr>\n",
       "      <th>2</th>\n",
       "      <td>73</td>\n",
       "      <td>12</td>\n",
       "      <td>0.05</td>\n",
       "      <td>5</td>\n",
       "      <td>43.8</td>\n",
       "    </tr>\n",
       "    <tr>\n",
       "      <th>3</th>\n",
       "      <td>27</td>\n",
       "      <td>12</td>\n",
       "      <td>0.05</td>\n",
       "      <td>1</td>\n",
       "      <td>16.2</td>\n",
       "    </tr>\n",
       "    <tr>\n",
       "      <th>4</th>\n",
       "      <td>47</td>\n",
       "      <td>12</td>\n",
       "      <td>0.05</td>\n",
       "      <td>6</td>\n",
       "      <td>28.2</td>\n",
       "    </tr>\n",
       "  </tbody>\n",
       "</table>\n",
       "</div>"
      ],
      "text/plain": [
       "   distance  one_km_price  tip_percentage  passengers  tips\n",
       "0        34            12            0.05           4  20.4\n",
       "1        22            12            0.05           4  13.2\n",
       "2        73            12            0.05           5  43.8\n",
       "3        27            12            0.05           1  16.2\n",
       "4        47            12            0.05           6  28.2"
      ]
     },
     "execution_count": 2,
     "metadata": {},
     "output_type": "execute_result"
    }
   ],
   "source": [
    "# Создаём сэмпл\n",
    "n_samples = 1000\n",
    "\n",
    "# Дистанция\n",
    "distance = np.random.choice(100, n_samples) + 1\n",
    "\n",
    "# Количество пассажиров\n",
    "passengers = np.random.choice(7, n_samples) + 1\n",
    "\n",
    "# Стоимость 1 км пути\n",
    "one_km_price = 12\n",
    "\n",
    "# % чаевых\n",
    "tip_percentage = 0.05\n",
    "\n",
    "# Наша целевая метрика - величина чаевых\n",
    "tips = distance * one_km_price * tip_percentage\n",
    "\n",
    "# Загоняем все в df\n",
    "data = pd.DataFrame({'distance': distance, 'one_km_price': one_km_price, 'tip_percentage': tip_percentage, 'passengers': passengers, 'tips': tips})\n",
    "data.head(5)"
   ]
  },
  {
   "cell_type": "code",
   "execution_count": 7,
   "metadata": {},
   "outputs": [
    {
     "name": "stdout",
     "output_type": "stream",
     "text": [
      "Weights: [6.00000000e-01 1.84071232e-17 0.00000000e+00 1.35452958e-48]\n",
      "Bias: -3.907985046680551e-14\n",
      "Error: 2.0531465416695484e-14\n"
     ]
    }
   ],
   "source": [
    "from sklearn.metrics import mean_absolute_error\n",
    "\n",
    "X = data[['distance', 'passengers', 'one_km_price', 'tip_percentage']]\n",
    "y = data['tips']\n",
    "\n",
    "# Строим регрессию\n",
    "reg = LinearRegression().fit(X, y)\n",
    "\n",
    "# Смотрим на веса\n",
    "print('Weights: {}'.format(reg.coef_))\n",
    "print('Bias: {}'.format(reg.intercept_))\n",
    "\n",
    "pred_values = reg.predict(data[['distance', 'passengers', 'one_km_price', 'tip_percentage']])\n",
    "print('Error: {}'.format(mean_absolute_error(pred_values, y)))"
   ]
  },
  {
   "cell_type": "code",
   "execution_count": 5,
   "metadata": {},
   "outputs": [
    {
     "data": {
      "text/html": [
       "<div>\n",
       "<style scoped>\n",
       "    .dataframe tbody tr th:only-of-type {\n",
       "        vertical-align: middle;\n",
       "    }\n",
       "\n",
       "    .dataframe tbody tr th {\n",
       "        vertical-align: top;\n",
       "    }\n",
       "\n",
       "    .dataframe thead th {\n",
       "        text-align: right;\n",
       "    }\n",
       "</style>\n",
       "<table border=\"1\" class=\"dataframe\">\n",
       "  <thead>\n",
       "    <tr style=\"text-align: right;\">\n",
       "      <th></th>\n",
       "      <th>distance</th>\n",
       "      <th>one_km_price</th>\n",
       "      <th>tip_percentage</th>\n",
       "      <th>passengers</th>\n",
       "      <th>tips</th>\n",
       "      <th>mult</th>\n",
       "    </tr>\n",
       "  </thead>\n",
       "  <tbody>\n",
       "    <tr>\n",
       "      <th>0</th>\n",
       "      <td>34</td>\n",
       "      <td>12</td>\n",
       "      <td>0.05</td>\n",
       "      <td>4</td>\n",
       "      <td>20.4</td>\n",
       "      <td>0.6</td>\n",
       "    </tr>\n",
       "    <tr>\n",
       "      <th>1</th>\n",
       "      <td>22</td>\n",
       "      <td>12</td>\n",
       "      <td>0.05</td>\n",
       "      <td>4</td>\n",
       "      <td>13.2</td>\n",
       "      <td>0.6</td>\n",
       "    </tr>\n",
       "    <tr>\n",
       "      <th>2</th>\n",
       "      <td>73</td>\n",
       "      <td>12</td>\n",
       "      <td>0.05</td>\n",
       "      <td>5</td>\n",
       "      <td>43.8</td>\n",
       "      <td>0.6</td>\n",
       "    </tr>\n",
       "    <tr>\n",
       "      <th>3</th>\n",
       "      <td>27</td>\n",
       "      <td>12</td>\n",
       "      <td>0.05</td>\n",
       "      <td>1</td>\n",
       "      <td>16.2</td>\n",
       "      <td>0.6</td>\n",
       "    </tr>\n",
       "    <tr>\n",
       "      <th>4</th>\n",
       "      <td>47</td>\n",
       "      <td>12</td>\n",
       "      <td>0.05</td>\n",
       "      <td>6</td>\n",
       "      <td>28.2</td>\n",
       "      <td>0.6</td>\n",
       "    </tr>\n",
       "  </tbody>\n",
       "</table>\n",
       "</div>"
      ],
      "text/plain": [
       "   distance  one_km_price  tip_percentage  passengers  tips  mult\n",
       "0        34            12            0.05           4  20.4   0.6\n",
       "1        22            12            0.05           4  13.2   0.6\n",
       "2        73            12            0.05           5  43.8   0.6\n",
       "3        27            12            0.05           1  16.2   0.6\n",
       "4        47            12            0.05           6  28.2   0.6"
      ]
     },
     "execution_count": 5,
     "metadata": {},
     "output_type": "execute_result"
    }
   ],
   "source": [
    "# Создаем новый признак\n",
    "data['mult'] = data['one_km_price'] * data['tip_percentage']\n",
    "data.head(5)"
   ]
  },
  {
   "cell_type": "code",
   "execution_count": 9,
   "metadata": {},
   "outputs": [
    {
     "name": "stdout",
     "output_type": "stream",
     "text": [
      "Weights: [-4.38865846e-34  6.00000000e-01]\n",
      "Bias: 3.552713678800501e-15\n",
      "Error: 2.5563995365018854e-15\n"
     ]
    }
   ],
   "source": [
    "X = data[['mult', 'distance']]\n",
    "y = data['tips']\n",
    "\n",
    "# Снова смотрим на регрессию\n",
    "reg = LinearRegression().fit(X, y)\n",
    "\n",
    "print('Weights: {}'.format(reg.coef_))\n",
    "print('Bias: {}'.format(reg.intercept_))\n",
    "\n",
    "pred_values = reg.predict(data[['mult', 'distance']])\n",
    "print('Error: {}'.format(mean_absolute_error(pred_values, y)))"
   ]
  },
  {
   "cell_type": "markdown",
   "metadata": {},
   "source": [
    "Ошибка уменьшилась в **10** раз"
   ]
  },
  {
   "cell_type": "code",
   "execution_count": null,
   "metadata": {},
   "outputs": [],
   "source": []
  }
 ],
 "metadata": {
  "kernelspec": {
   "display_name": "Python 3",
   "language": "python",
   "name": "python3"
  },
  "language_info": {
   "codemirror_mode": {
    "name": "ipython",
    "version": 3
   },
   "file_extension": ".py",
   "mimetype": "text/x-python",
   "name": "python",
   "nbconvert_exporter": "python",
   "pygments_lexer": "ipython3",
   "version": "3.7.3"
  }
 },
 "nbformat": 4,
 "nbformat_minor": 2
}
